{
 "cells": [
  {
   "cell_type": "markdown",
   "metadata": {},
   "source": [
    "# DAT210x - Programming with Python for DS"
   ]
  },
  {
   "cell_type": "markdown",
   "metadata": {},
   "source": [
    "## Module5- Lab7"
   ]
  },
  {
   "cell_type": "code",
   "execution_count": 186,
   "metadata": {
    "collapsed": true
   },
   "outputs": [],
   "source": [
    "import random, math\n",
    "import pandas as pd\n",
    "import numpy as np\n",
    "import scipy.io\n",
    "\n",
    "from matplotlib.colors import ListedColormap\n",
    "from mpl_toolkits.mplot3d import Axes3D\n",
    "import matplotlib.pyplot as plt\n",
    "import matplotlib\n",
    "\n",
    "from sklearn.decomposition import PCA\n",
    "from sklearn import manifold\n",
    "\n",
    "\n",
    "\n",
    "matplotlib.style.use('ggplot') # Look Pretty\n",
    "\n",
    "\n",
    "# Leave this alone until indicated:\n",
    "Test_PCA = False"
   ]
  },
  {
   "cell_type": "markdown",
   "metadata": {},
   "source": [
    "### A Convenience Function"
   ]
  },
  {
   "cell_type": "markdown",
   "metadata": {},
   "source": [
    "This method is for your visualization convenience only. You aren't expected to know how to put this together yourself, although you should be able to follow the code by now:"
   ]
  },
  {
   "cell_type": "code",
   "execution_count": 187,
   "metadata": {
    "collapsed": false
   },
   "outputs": [],
   "source": [
    "def plotDecisionBoundary(model, X, y):\n",
    "    print(\"Plotting...\")\n",
    "\n",
    "    fig = plt.figure()\n",
    "    ax = fig.add_subplot(111)\n",
    "\n",
    "    padding = 0.1\n",
    "    resolution = 0.1\n",
    "\n",
    "    #(2 for benign, 4 for malignant)\n",
    "    colors = {2:'royalblue', 4:'lightsalmon'} \n",
    "\n",
    "\n",
    "    # Calculate the boundaris\n",
    "    x_min, x_max = X[:, 0].min(), X[:, 0].max()\n",
    "    y_min, y_max = X[:, 1].min(), X[:, 1].max()\n",
    "    x_range = x_max - x_min\n",
    "    y_range = y_max - y_min\n",
    "    x_min -= x_range * padding\n",
    "    y_min -= y_range * padding\n",
    "    x_max += x_range * padding\n",
    "    y_max += y_range * padding\n",
    "\n",
    "    # Create a 2D Grid Matrix. The values stored in the matrix\n",
    "    # are the predictions of the class at at said location\n",
    "    xx, yy = np.meshgrid(np.arange(x_min, x_max, resolution),\n",
    "                         np.arange(y_min, y_max, resolution))\n",
    "\n",
    "    # What class does the classifier say?\n",
    "    Z = model.predict(np.c_[xx.ravel(), yy.ravel()])\n",
    "    Z = Z.reshape(xx.shape)\n",
    "\n",
    "    # Plot the contour map\n",
    "    plt.contourf(xx, yy, Z, cmap=plt.cm.seismic)\n",
    "    plt.axis('tight')\n",
    "\n",
    "    # Plot your testing points as well...\n",
    "    for label in np.unique(y):\n",
    "        indices = np.where(y == label)\n",
    "        plt.scatter(X[indices, 0], X[indices, 1], c=colors[label], alpha=0.8)\n",
    "\n",
    "    p = model.get_params()\n",
    "    plt.title('K = ' + str(p['n_neighbors']))\n",
    "    plt.show()"
   ]
  },
  {
   "cell_type": "markdown",
   "metadata": {
    "collapsed": true
   },
   "source": [
    "### The Assignment"
   ]
  },
  {
   "cell_type": "markdown",
   "metadata": {
    "collapsed": true
   },
   "source": [
    "Load in the dataset, identify nans, and set proper headers. Be sure to verify the rows line up by looking at the file in a text editor."
   ]
  },
  {
   "cell_type": "code",
   "execution_count": 188,
   "metadata": {
    "collapsed": false
   },
   "outputs": [
    {
     "name": "stdout",
     "output_type": "stream",
     "text": [
      "    sample  thickness  size  shape  adhesion  epithelial  nuclei  chromatin  \\\n",
      "0  1000025          5     1      1         1           2     1.0          3   \n",
      "1  1002945          5     4      4         5           7    10.0          3   \n",
      "2  1015425          3     1      1         1           2     2.0          3   \n",
      "3  1016277          6     8      8         1           3     4.0          3   \n",
      "4  1017023          4     1      1         3           2     1.0          3   \n",
      "5  1017122          8    10     10         8           7    10.0          9   \n",
      "6  1018099          1     1      1         1           2    10.0          3   \n",
      "7  1018561          2     1      2         1           2     1.0          3   \n",
      "8  1033078          2     1      1         1           2     1.0          1   \n",
      "9  1033078          4     2      1         1           2     1.0          2   \n",
      "\n",
      "   nucleoli  mitoses  status  \n",
      "0         1        1       2  \n",
      "1         2        1       2  \n",
      "2         1        1       2  \n",
      "3         7        1       2  \n",
      "4         1        1       2  \n",
      "5         7        1       4  \n",
      "6         1        1       2  \n",
      "7         1        1       2  \n",
      "8         1        5       2  \n",
      "9         1        1       2  \n",
      "------------------------------------------------\n",
      "sample          int64\n",
      "thickness       int64\n",
      "size            int64\n",
      "shape           int64\n",
      "adhesion        int64\n",
      "epithelial      int64\n",
      "nuclei        float64\n",
      "chromatin       int64\n",
      "nucleoli        int64\n",
      "mitoses         int64\n",
      "status          int64\n",
      "dtype: object\n",
      "------------------------------------------------\n",
      "sample         0\n",
      "thickness      0\n",
      "size           0\n",
      "shape          0\n",
      "adhesion       0\n",
      "epithelial     0\n",
      "nuclei        16\n",
      "chromatin      0\n",
      "nucleoli       0\n",
      "mitoses        0\n",
      "status         0\n",
      "dtype: int64\n",
      "------------------------------------------------\n"
     ]
    }
   ],
   "source": [
    "df = pd.read_csv('Datasets/breast-cancer-wisconsin.data',  names = ['sample', 'thickness', 'size', 'shape', 'adhesion',\n",
    "                                                                    'epithelial', 'nuclei', 'chromatin', 'nucleoli', 'mitoses',\n",
    "                                                                    'status'])\n",
    "df.nuclei = pd.to_numeric(df.nuclei, errors = 'coerce')\n",
    "print(df.head(10))\n",
    "print('------------------------------------------------')\n",
    "print(df.dtypes)\n",
    "print('------------------------------------------------')\n",
    "print(df.isnull().sum())\n",
    "print('------------------------------------------------')"
   ]
  },
  {
   "cell_type": "markdown",
   "metadata": {},
   "source": [
    "Copy out the status column into a slice, then drop it from the main dataframe. Always verify you properly executed the drop by double checking (printing out the resulting operating)! Many people forget to set the right axis here.\n",
    "\n",
    "If you goofed up on loading the dataset and notice you have a `sample` column, this would be a good place to drop that too if you haven't already."
   ]
  },
  {
   "cell_type": "code",
   "execution_count": 189,
   "metadata": {
    "collapsed": false
   },
   "outputs": [],
   "source": [
    "y = df.status\n",
    "df.drop(labels=['sample', 'status'], axis=1, inplace = True)"
   ]
  },
  {
   "cell_type": "markdown",
   "metadata": {
    "collapsed": false
   },
   "source": [
    "With the labels safely extracted from the dataset, replace any nan values with the mean feature / column value:"
   ]
  },
  {
   "cell_type": "code",
   "execution_count": 190,
   "metadata": {
    "collapsed": false
   },
   "outputs": [
    {
     "name": "stdout",
     "output_type": "stream",
     "text": [
      "thickness     0\n",
      "size          0\n",
      "shape         0\n",
      "adhesion      0\n",
      "epithelial    0\n",
      "nuclei        0\n",
      "chromatin     0\n",
      "nucleoli      0\n",
      "mitoses       0\n",
      "dtype: int64\n"
     ]
    }
   ],
   "source": [
    "df.nuclei.fillna(df.nuclei.mean(), inplace=True)\n",
    "print(df.isnull().sum())"
   ]
  },
  {
   "cell_type": "markdown",
   "metadata": {},
   "source": [
    "Do train_test_split. Use the same variable names as on the EdX platform in the reading material, but set the random_state=7 for reproducibility, and keep the test_size at 0.5 (50%)."
   ]
  },
  {
   "cell_type": "code",
   "execution_count": 191,
   "metadata": {
    "collapsed": false
   },
   "outputs": [],
   "source": [
    "from sklearn.cross_validation import train_test_split\n",
    "data_train, data_test, label_train, label_test = train_test_split(df, y, test_size = 0.5, random_state = 7)"
   ]
  },
  {
   "cell_type": "markdown",
   "metadata": {},
   "source": [
    "Experiment with the basic SKLearn preprocessing scalers. We know that the features consist of different units mixed in together, so it might be reasonable to assume feature scaling is necessary. Print out a description of the dataset, post transformation. Recall: when you do pre-processing, which portion of the dataset is your model trained upon? Also which portion(s) of your dataset actually get transformed?"
   ]
  },
  {
   "cell_type": "code",
   "execution_count": 192,
   "metadata": {
    "collapsed": false,
    "scrolled": true
   },
   "outputs": [
    {
     "data": {
      "text/plain": [
       "array([[ 1.19102499,  0.24973863,  2.17854679, ...,  1.46915484,\n",
       "         2.3126771 , -0.3431157 ],\n",
       "       [-1.18810343, -0.38414343, -0.10663561, ..., -0.61175035,\n",
       "        -0.61758461, -0.3431157 ],\n",
       "       [-0.16847696, -0.70108446, -0.75954487, ..., -1.02793139,\n",
       "        -0.61758461, -0.3431157 ],\n",
       "       ..., \n",
       "       [ 0.17139853, -0.70108446, -0.75954487, ..., -1.02793139,\n",
       "        -0.61758461, -0.3431157 ],\n",
       "       [-0.84822794, -0.70108446, -0.75954487, ..., -0.61175035,\n",
       "        -0.61758461, -0.3431157 ],\n",
       "       [ 0.51127402,  0.88362069,  0.87272828, ...,  1.46915484,\n",
       "         1.01033856,  0.20871554]])"
      ]
     },
     "execution_count": 192,
     "metadata": {},
     "output_type": "execute_result"
    }
   ],
   "source": [
    "from sklearn import preprocessing\n",
    "T = preprocessing.StandardScaler()\n",
    "T.fit_transform(data_train, label_train)\n",
    "T.transform(data_test, label_test)"
   ]
  },
  {
   "cell_type": "markdown",
   "metadata": {},
   "source": [
    "### Dimensionality Reduction"
   ]
  },
  {
   "cell_type": "markdown",
   "metadata": {},
   "source": [
    "PCA and Isomap are your new best friends"
   ]
  },
  {
   "cell_type": "code",
   "execution_count": 193,
   "metadata": {
    "collapsed": false
   },
   "outputs": [
    {
     "name": "stdout",
     "output_type": "stream",
     "text": [
      "Computing 2D Isomap Manifold\n"
     ]
    }
   ],
   "source": [
    "model = None\n",
    "\n",
    "if Test_PCA:\n",
    "    print('Computing 2D Principle Components')\n",
    "    # TODO: Implement PCA here. Save your model into the variable 'model'.\n",
    "    # You should reduce down to two dimensions.\n",
    "    \n",
    "    model = PCA(n_components = 2)\n",
    "\n",
    "else:\n",
    "    print('Computing 2D Isomap Manifold')\n",
    "    # TODO: Implement Isomap here. Save your model into the variable 'model'\n",
    "    # Experiment with K values from 5-10.\n",
    "    # You should reduce down to two dimensions.\n",
    "\n",
    "    model = manifold.Isomap(n_neighbors = 5, n_components = 2)"
   ]
  },
  {
   "cell_type": "markdown",
   "metadata": {},
   "source": [
    "Train your model against data_train, then transform both `data_train` and `data_test` using your model. You can save the results right back into the variables themselves."
   ]
  },
  {
   "cell_type": "code",
   "execution_count": 194,
   "metadata": {
    "collapsed": false
   },
   "outputs": [
    {
     "data": {
      "text/plain": [
       "array([[  1.52136328e+01,  -3.77260170e-01],\n",
       "       [ -1.12574472e+01,  -1.07767157e+00],\n",
       "       [ -9.83619282e+00,  -1.36613843e+00],\n",
       "       [ -1.19223792e+01,  -3.78241565e-01],\n",
       "       [  2.39646267e+01,   1.34487701e+00],\n",
       "       [ -9.60345160e+00,  -2.95256810e-01],\n",
       "       [  1.67288915e+01,   8.98354538e+00],\n",
       "       [  1.92012854e+00,   7.70517860e+00],\n",
       "       [ -9.00289315e+00,   1.93050957e-01],\n",
       "       [  1.75637410e+01,   1.26806807e+01],\n",
       "       [ -8.53861444e+00,  -1.25647630e+00],\n",
       "       [ -8.82782401e+00,  -6.25090763e-01],\n",
       "       [ -9.86397610e+00,   1.77168396e+00],\n",
       "       [ -9.10485916e+00,   2.27107202e+00],\n",
       "       [  1.65304818e+01,   8.86136147e+00],\n",
       "       [ -8.32366320e+00,   4.08186846e+00],\n",
       "       [ -9.20439631e+00,  -2.15627741e+00],\n",
       "       [ -1.00880575e+01,  -7.88672147e-01],\n",
       "       [  1.65000353e+01,   1.14995170e+01],\n",
       "       [ -1.19549866e+01,  -2.14012923e+00],\n",
       "       [ -1.02010889e+01,   2.37224687e-01],\n",
       "       [ -9.11935187e+00,  -3.46783662e-01],\n",
       "       [ -1.77041220e+00,  -7.68167631e-01],\n",
       "       [  4.93928149e+00,  -1.12574816e+00],\n",
       "       [ -1.15055909e+01,  -7.14967850e-02],\n",
       "       [ -8.74278554e+00,  -3.00905076e-02],\n",
       "       [ -8.89828439e+00,  -1.96256841e+00],\n",
       "       [ -1.11470467e+01,   1.99382958e+00],\n",
       "       [ -9.68408322e+00,   9.51802216e-02],\n",
       "       [  1.78687591e+01,   3.11341589e+00],\n",
       "       [ -8.00442137e+00,  -1.69472526e+00],\n",
       "       [  8.58873150e+00,   9.58819216e+00],\n",
       "       [ -1.37931458e+01,   4.72161981e+00],\n",
       "       [ -1.13371627e+01,  -1.55108714e+00],\n",
       "       [ -8.68560906e+00,  -2.57295787e+00],\n",
       "       [ -8.64482351e+00,  -9.04042045e-01],\n",
       "       [ -1.01108086e+01,  -8.69254953e-01],\n",
       "       [ -7.39468513e+00,  -2.13399381e+00],\n",
       "       [  1.62390050e+01,  -8.09496062e+00],\n",
       "       [ -1.37931458e+01,   4.72161981e+00],\n",
       "       [  1.19688221e+01,   1.00846849e+01],\n",
       "       [  1.03398974e+01,   1.21679917e+01],\n",
       "       [  2.01481310e+01,  -2.87024220e+00],\n",
       "       [ -1.27557406e+01,  -4.06644266e-01],\n",
       "       [  2.01993257e+01,   3.20822744e+00],\n",
       "       [ -1.10428663e+01,   6.47493746e-01],\n",
       "       [  1.93553065e+01,   4.72022910e+00],\n",
       "       [ -1.37931458e+01,   4.72161981e+00],\n",
       "       [  2.79424280e+01,  -4.91994064e+00],\n",
       "       [  9.89141834e+00,   1.41688572e+01],\n",
       "       [ -8.43399199e+00,   4.45249853e-01],\n",
       "       [ -1.19549866e+01,  -2.14012923e+00],\n",
       "       [ -9.33646583e+00,  -2.39105358e+00],\n",
       "       [  1.30765217e+01,   1.55414055e+01],\n",
       "       [  2.77597688e+01,  -4.86011419e+00],\n",
       "       [ -8.24377037e+00,  -6.02969537e-01],\n",
       "       [ -4.67181190e+00,   3.99344306e-01],\n",
       "       [ -1.04165264e+01,  -1.40691314e-01],\n",
       "       [ -1.37931458e+01,   4.72161981e+00],\n",
       "       [ -6.09984067e+00,  -7.80971648e-01],\n",
       "       [  1.58209036e+01,   1.86225835e+00],\n",
       "       [  2.36194192e+01,   1.14853868e+00],\n",
       "       [ -9.10291400e+00,  -8.64013825e-01],\n",
       "       [  2.43225632e+01,   5.39580595e+00],\n",
       "       [  2.31142169e+01,   2.53964533e+00],\n",
       "       [ -1.04165264e+01,  -1.40691314e-01],\n",
       "       [ -1.37931458e+01,   4.72161981e+00],\n",
       "       [ -1.37931458e+01,   4.72161981e+00],\n",
       "       [ -7.67147463e+00,  -9.51740065e-01],\n",
       "       [  2.37788510e+01,  -8.71595475e-03],\n",
       "       [ -1.02010889e+01,   2.37224687e-01],\n",
       "       [ -1.04455384e+01,  -3.71873324e-01],\n",
       "       [ -1.04455384e+01,  -3.71873324e-01],\n",
       "       [  1.47063551e+01,   1.38950880e+01],\n",
       "       [ -1.01108086e+01,  -8.69254953e-01],\n",
       "       [ -8.53861444e+00,  -1.25647630e+00],\n",
       "       [  8.24385034e+00,   1.12807882e+01],\n",
       "       [  1.75819373e+01,   7.34558281e+00],\n",
       "       [  1.99851797e+01,  -8.85712303e+00],\n",
       "       [ -1.04165264e+01,  -1.40691314e-01],\n",
       "       [  3.17791039e+01,  -9.26565312e-01],\n",
       "       [ -7.32337699e+00,   3.41124379e-01],\n",
       "       [ -8.26030152e+00,   2.64608066e-01],\n",
       "       [ -8.64482351e+00,  -9.04042045e-01],\n",
       "       [ -8.43309803e+00,   8.14489446e-01],\n",
       "       [ -1.04165264e+01,  -1.40691314e-01],\n",
       "       [  2.19460256e+01,  -7.62946399e+00],\n",
       "       [  1.86980042e+01,   9.86694442e+00],\n",
       "       [ -8.53861444e+00,  -1.25647630e+00],\n",
       "       [ -9.56857772e+00,  -2.35770329e+00],\n",
       "       [ -1.22990286e+01,  -1.58367558e+00],\n",
       "       [ -9.60345160e+00,  -2.95256810e-01],\n",
       "       [ -1.01108086e+01,  -8.69254953e-01],\n",
       "       [  2.46167382e+01,  -1.53796924e+00],\n",
       "       [  6.70281328e+00,  -4.06960237e+00],\n",
       "       [ -1.02655958e+01,  -5.30027791e-01],\n",
       "       [ -8.43309803e+00,   8.14489446e-01],\n",
       "       [ -9.87611628e+00,   2.10142382e+00],\n",
       "       [  1.84800890e+01,   5.92692085e+00],\n",
       "       [ -9.13600299e+00,  -2.04400486e+00],\n",
       "       [ -1.03973960e+01,   2.09529625e+00],\n",
       "       [  2.96562283e+01,  -1.27438531e+00],\n",
       "       [ -1.02526785e+01,  -1.23625495e+00],\n",
       "       [ -1.02795730e+01,   8.76015214e-01],\n",
       "       [ -7.82657417e+00,  -1.94549981e+00],\n",
       "       [ -8.18358517e+00,  -7.84948092e-01],\n",
       "       [ -9.66669050e+00,  -1.73325552e+00],\n",
       "       [ -1.37931458e+01,   4.72161981e+00],\n",
       "       [ -8.53861444e+00,  -1.25647630e+00],\n",
       "       [ -9.60345160e+00,  -2.95256810e-01],\n",
       "       [  2.09442434e+01,   1.39455618e+00],\n",
       "       [  1.00634894e+01,   1.32847651e+01],\n",
       "       [  1.49080769e+00,   1.38556666e+00],\n",
       "       [ -9.60345160e+00,  -2.95256810e-01],\n",
       "       [  2.05101716e+01,  -6.83107625e+00],\n",
       "       [ -8.74278554e+00,  -3.00905076e-02],\n",
       "       [ -8.53861444e+00,  -1.25647630e+00],\n",
       "       [ -7.90453756e+00,  -2.37457668e+00],\n",
       "       [  2.48393965e+01,  -5.32158386e-01],\n",
       "       [  2.36815239e+01,   7.80503959e+00],\n",
       "       [  1.49879655e+01,  -2.56697819e+00],\n",
       "       [ -1.04455384e+01,  -3.71873324e-01],\n",
       "       [ -8.64482351e+00,  -9.04042045e-01],\n",
       "       [  2.46302034e+01,  -4.30953787e+00],\n",
       "       [ -1.04165264e+01,  -1.40691314e-01],\n",
       "       [ -9.78833474e+00,  -1.81238944e+00],\n",
       "       [ -1.37931458e+01,   4.72161981e+00],\n",
       "       [ -1.01108086e+01,  -8.69254953e-01],\n",
       "       [ -1.04165264e+01,  -1.40691314e-01],\n",
       "       [  2.80325864e+01,  -4.75095552e-02],\n",
       "       [ -7.57407811e+00,  -1.79809258e+00],\n",
       "       [ -1.37931458e+01,   4.72161981e+00],\n",
       "       [ -6.24965592e-01,   9.44668910e+00],\n",
       "       [ -8.43399199e+00,   4.45249853e-01],\n",
       "       [  1.77552195e+01,   9.23640478e+00],\n",
       "       [ -1.04165264e+01,  -1.40691314e-01],\n",
       "       [  5.42470047e+00,   6.74844209e+00],\n",
       "       [  2.10262876e+01,   4.45384596e+00],\n",
       "       [ -9.10291400e+00,  -8.64013825e-01],\n",
       "       [ -1.02010889e+01,   2.37224687e-01],\n",
       "       [  4.61310060e+00,   3.85158030e-01],\n",
       "       [  2.84487505e+01,   1.56155032e+00],\n",
       "       [ -8.53426002e-01,  -2.64015961e+00],\n",
       "       [ -8.58061846e+00,  -1.64810788e-01],\n",
       "       [ -9.43210526e+00,  -2.00601297e+00],\n",
       "       [ -9.35235953e+00,  -1.09278204e+00],\n",
       "       [ -1.20472763e+01,  -5.88483399e-01],\n",
       "       [ -9.68545465e+00,   1.30557462e+00],\n",
       "       [  1.01815590e+01,   3.69408815e+00],\n",
       "       [  1.96616369e+01,  -1.02905706e+01],\n",
       "       [ -8.58061846e+00,  -1.64810788e-01],\n",
       "       [ -1.01108086e+01,  -8.69254953e-01],\n",
       "       [ -9.04565046e+00,  -1.07240499e+00],\n",
       "       [ -8.74278554e+00,  -3.00905076e-02],\n",
       "       [  2.43434158e+01,   1.02123413e+01],\n",
       "       [ -5.27594862e+00,  -1.49617654e+00],\n",
       "       [ -1.27608399e+01,   5.69502169e-02],\n",
       "       [ -8.74278554e+00,  -3.00905076e-02],\n",
       "       [  1.29980274e+01,  -1.44716599e+01],\n",
       "       [ -8.53861444e+00,  -1.25647630e+00],\n",
       "       [  2.04938411e+01,   7.49650322e-01],\n",
       "       [ -8.43309803e+00,   8.14489446e-01],\n",
       "       [ -5.15195160e+00,  -3.35726120e+00],\n",
       "       [ -1.04165264e+01,  -1.40691314e-01],\n",
       "       [ -8.81698078e+00,   8.01497946e-01],\n",
       "       [ -1.04165264e+01,  -1.40691314e-01],\n",
       "       [  9.30143588e+00,   2.24845310e+00],\n",
       "       [ -8.81387467e+00,   3.79611027e-01],\n",
       "       [ -1.00489815e+01,   3.38783572e-01],\n",
       "       [  8.42848937e+00,   8.25516895e+00],\n",
       "       [ -1.29454115e+00,   2.99404047e+00],\n",
       "       [  1.39969012e+01,  -4.56436274e+00],\n",
       "       [  1.52465278e+01,   1.20126602e+01],\n",
       "       [ -1.00489815e+01,   3.38783572e-01],\n",
       "       [  1.38199879e+01,   1.29743673e+01],\n",
       "       [  1.31362365e+01,   1.34194589e+01],\n",
       "       [  2.69642965e+01,   3.94659569e+00],\n",
       "       [ -1.02010889e+01,   2.37224687e-01],\n",
       "       [  2.03619562e+01,  -7.31966710e+00],\n",
       "       [ -9.00289315e+00,   1.93050957e-01],\n",
       "       [ -9.47145910e+00,  -1.38623096e+00],\n",
       "       [ -1.13881727e+01,  -1.01860297e+00],\n",
       "       [  2.02167833e+01,   4.29196499e+00],\n",
       "       [ -5.17431035e+00,  -2.53418766e+00],\n",
       "       [ -8.44781158e+00,  -2.96195605e-01],\n",
       "       [ -1.02119740e+01,  -2.33124774e+00],\n",
       "       [ -1.04165264e+01,  -1.40691314e-01],\n",
       "       [ -8.58061846e+00,  -1.64810788e-01],\n",
       "       [ -8.58061846e+00,  -1.64810788e-01],\n",
       "       [ -4.34539131e+00,  -2.49367835e+00],\n",
       "       [ -1.46426152e+01,   4.92563010e+00],\n",
       "       [  2.57199452e+01,  -1.90867814e+00],\n",
       "       [ -9.60345160e+00,  -2.95256810e-01],\n",
       "       [ -8.43804786e+00,  -1.33882781e+00],\n",
       "       [ -1.01108086e+01,  -8.69254953e-01],\n",
       "       [  1.84791456e+01,   1.00255380e+01],\n",
       "       [ -9.18322605e+00,   2.76983252e+00],\n",
       "       [ -8.58061846e+00,  -1.64810788e-01],\n",
       "       [ -8.58061846e+00,  -1.64810788e-01],\n",
       "       [  7.52644877e+00,   1.13526977e+01],\n",
       "       [  1.27045933e+01,   1.24772024e+01],\n",
       "       [ -8.83011439e+00,   7.93147992e-01],\n",
       "       [ -1.37931458e+01,   4.72161981e+00],\n",
       "       [ -8.58061846e+00,  -1.64810788e-01],\n",
       "       [ -8.43309803e+00,   8.14489446e-01],\n",
       "       [ -8.43309803e+00,   8.14489446e-01],\n",
       "       [  2.04651195e+01,  -1.12641091e+01],\n",
       "       [ -9.47145910e+00,  -1.38623096e+00],\n",
       "       [ -1.37931458e+01,   4.72161981e+00],\n",
       "       [  3.06746333e+01,  -8.58535703e+00],\n",
       "       [ -9.78609129e-01,   6.77349580e+00],\n",
       "       [ -9.60345160e+00,  -2.95256810e-01],\n",
       "       [ -1.11881038e+01,  -1.59678089e+00],\n",
       "       [ -1.76378806e+00,  -4.33391541e+00],\n",
       "       [ -1.04165264e+01,  -1.40691314e-01],\n",
       "       [ -8.53861444e+00,  -1.25647630e+00],\n",
       "       [  1.52939614e+01,   2.63608322e+00],\n",
       "       [  3.20447717e+01,  -3.23138778e+00],\n",
       "       [ -1.04455384e+01,  -3.71873324e-01],\n",
       "       [ -8.81387467e+00,   3.79611027e-01],\n",
       "       [  5.87587516e+00,   7.78448753e+00],\n",
       "       [ -9.10291400e+00,  -8.64013825e-01],\n",
       "       [ -9.22185935e+00,  -3.64831438e-01],\n",
       "       [ -8.64482351e+00,  -9.04042045e-01],\n",
       "       [ -1.10480951e+01,  -7.89737838e-01],\n",
       "       [ -7.93035634e+00,  -2.39432245e+00],\n",
       "       [ -8.61673275e+00,   1.11497076e+00],\n",
       "       [  1.33954389e+00,   5.39395791e+00],\n",
       "       [ -1.20472763e+01,  -5.88483399e-01],\n",
       "       [  1.59473337e+01,  -2.87049968e-01],\n",
       "       [  1.51593214e+01,  -2.70018140e-01],\n",
       "       [  1.43834069e+01,   1.33798029e+01],\n",
       "       [ -1.13326467e+01,  -4.15384052e-01],\n",
       "       [  1.49941088e+01,   7.91522959e+00],\n",
       "       [ -1.10817778e+01,  -1.00104169e+00],\n",
       "       [ -9.82643952e+00,   2.01653931e+00],\n",
       "       [ -8.74278554e+00,  -3.00905076e-02],\n",
       "       [ -1.19549866e+01,  -2.14012923e+00],\n",
       "       [  7.20270966e+00,   9.89778905e+00],\n",
       "       [  2.61270098e+01,   1.70680435e+00],\n",
       "       [  1.68347444e+00,  -2.99637127e+00],\n",
       "       [  9.84982146e+00,  -3.98386245e+00],\n",
       "       [ -1.22139785e+01,  -1.00924728e+00],\n",
       "       [ -8.60483989e+00,  -1.54320638e+00],\n",
       "       [ -1.07384316e+01,  -8.33088276e-01],\n",
       "       [ -8.53861444e+00,  -1.25647630e+00],\n",
       "       [  1.84505170e+00,   7.21267119e+00],\n",
       "       [ -7.32337699e+00,   3.41124379e-01],\n",
       "       [ -1.27626918e+01,   1.12811999e-01],\n",
       "       [ -8.85838046e+00,  -1.59612673e+00],\n",
       "       [  2.50807075e+01,  -1.55816696e+00],\n",
       "       [ -1.04455384e+01,  -3.71873324e-01],\n",
       "       [ -7.53367438e+00,  -1.12073902e+00],\n",
       "       [  1.38149784e+01,   6.64162750e+00],\n",
       "       [  1.87480948e+01,   6.33668679e+00],\n",
       "       [ -8.54351496e+00,  -1.56360534e+00],\n",
       "       [ -9.60345160e+00,  -2.95256810e-01],\n",
       "       [ -1.07590463e+01,  -1.49702234e+00],\n",
       "       [  2.87693015e+01,  -4.03070589e+00],\n",
       "       [ -8.87393564e+00,  -2.47535119e+00],\n",
       "       [ -9.44285278e+00,  -1.20515722e+00],\n",
       "       [ -1.11006184e+01,  -2.47347846e+00],\n",
       "       [ -1.17386583e+01,   8.21031193e-01],\n",
       "       [  2.72832372e+01,  -1.38127846e+00],\n",
       "       [  2.03867870e+01,   6.59881827e+00],\n",
       "       [ -9.98778989e+00,  -7.57501303e-01],\n",
       "       [  1.47465844e+01,  -7.55785097e+00],\n",
       "       [  1.84477145e+01,   8.88565376e+00],\n",
       "       [ -1.04455384e+01,  -3.71873324e-01],\n",
       "       [ -8.75262176e+00,  -2.10675587e+00],\n",
       "       [ -8.16741665e+00,  -2.27222559e+00],\n",
       "       [ -8.74278554e+00,  -3.00905076e-02],\n",
       "       [  1.46957018e+01,   1.21017773e+01],\n",
       "       [ -1.04455384e+01,  -3.71873324e-01],\n",
       "       [ -9.60345160e+00,  -2.95256810e-01],\n",
       "       [ -8.63520552e+00,  -1.73765017e-03],\n",
       "       [  2.14900283e+01,   1.09779189e+00],\n",
       "       [  2.46578605e+01,   4.55294039e+00],\n",
       "       [  1.50305209e+01,  -1.78733972e+01],\n",
       "       [ -1.12368926e+01,  -2.20519831e+00],\n",
       "       [ -1.09200144e+01,   8.22730853e-01],\n",
       "       [ -1.37931458e+01,   4.72161981e+00],\n",
       "       [  2.68935586e+01,  -8.87804495e-01],\n",
       "       [ -9.10291400e+00,  -8.64013825e-01],\n",
       "       [ -1.02010889e+01,   2.37224687e-01],\n",
       "       [ -9.44285278e+00,  -1.20515722e+00],\n",
       "       [ -8.81387467e+00,   3.79611027e-01],\n",
       "       [ -1.02352829e+01,   3.23547149e+00],\n",
       "       [  1.97766327e+01,  -2.77955788e+00],\n",
       "       [  2.83848018e+01,  -3.15125523e+00],\n",
       "       [  3.10510598e+01,  -3.69661574e+00],\n",
       "       [ -9.13650266e+00,   4.06792161e-01],\n",
       "       [ -1.17878245e+01,   7.85409608e-02],\n",
       "       [ -9.04143775e+00,  -1.26657680e+00],\n",
       "       [ -1.04455384e+01,  -3.71873324e-01],\n",
       "       [ -1.13299129e+01,  -1.45539602e+00],\n",
       "       [  2.51163685e+01,   1.00761053e+00],\n",
       "       [ -9.44285278e+00,  -1.20515722e+00],\n",
       "       [  3.24839388e+01,   1.25097590e-01],\n",
       "       [ -8.64482351e+00,  -9.04042045e-01],\n",
       "       [ -9.66943671e+00,  -7.43341467e-01],\n",
       "       [ -9.92698840e+00,   2.00464417e+00],\n",
       "       [ -1.19549866e+01,  -2.14012923e+00],\n",
       "       [ -8.53861444e+00,  -1.25647630e+00],\n",
       "       [ -1.02629002e+01,  -1.13151573e+00],\n",
       "       [ -1.02119740e+01,  -2.33124774e+00],\n",
       "       [ -1.04165264e+01,  -1.40691314e-01],\n",
       "       [  1.56211767e+01,   1.48347698e+01],\n",
       "       [  2.63540390e+01,  -1.24024024e+01],\n",
       "       [ -9.60345160e+00,  -2.95256810e-01],\n",
       "       [ -8.43309803e+00,   8.14489446e-01],\n",
       "       [  1.44890357e+01,   1.59310459e+01],\n",
       "       [  1.20893355e+01,   1.11969642e+01],\n",
       "       [ -8.91275823e+00,   3.66851457e-01],\n",
       "       [ -8.64482351e+00,  -9.04042045e-01],\n",
       "       [  2.30260758e+01,   3.34947839e+00],\n",
       "       [ -8.58061846e+00,  -1.64810788e-01],\n",
       "       [ -9.10291400e+00,  -8.64013825e-01],\n",
       "       [ -9.30993611e+00,  -8.04145840e-01],\n",
       "       [ -1.21653078e+01,   9.75402297e-02],\n",
       "       [ -9.43210526e+00,  -2.00601297e+00],\n",
       "       [ -1.02119740e+01,  -2.33124774e+00],\n",
       "       [ -8.38659277e+00,  -1.49500530e+00],\n",
       "       [ -4.98379407e+00,  -2.30508854e+00],\n",
       "       [ -9.86188651e+00,   4.02138019e+00],\n",
       "       [ -9.44285278e+00,  -1.20515722e+00],\n",
       "       [ -8.53365888e+00,  -2.06588650e+00],\n",
       "       [  2.11354841e+01,  -1.19638140e+01],\n",
       "       [ -1.04455384e+01,  -3.71873324e-01],\n",
       "       [ -8.53861444e+00,  -1.25647630e+00],\n",
       "       [ -1.01108086e+01,  -8.69254953e-01],\n",
       "       [ -1.19223792e+01,  -3.78241565e-01],\n",
       "       [ -8.81387467e+00,   3.79611027e-01],\n",
       "       [ -1.10830362e+01,   2.81163836e-01],\n",
       "       [  1.84052069e+01,   1.22836542e+01],\n",
       "       [  1.22952039e+01,   9.81911623e+00],\n",
       "       [  1.27953915e+01,   1.00340915e+01],\n",
       "       [ -8.94152507e+00,  -1.28095196e+00],\n",
       "       [  2.02369721e+01,   1.30436367e+01],\n",
       "       [ -1.04165264e+01,  -1.40691314e-01],\n",
       "       [ -9.50040282e-01,   3.17129865e+00],\n",
       "       [  1.33090153e+01,  -9.52518949e+00],\n",
       "       [ -9.65792588e+00,   1.47622110e+00],\n",
       "       [ -8.08838154e+00,  -7.09426467e-01],\n",
       "       [  1.89238427e+01,  -2.70875070e+00],\n",
       "       [ -1.32708285e+00,   7.07534113e+00],\n",
       "       [  1.28957581e+01,   1.19440935e+01],\n",
       "       [ -9.10291400e+00,  -8.64013825e-01],\n",
       "       [ -1.03553620e+01,  -1.23645065e+00],\n",
       "       [  1.52202500e+01,   4.58011766e+00]])"
      ]
     },
     "execution_count": 194,
     "metadata": {},
     "output_type": "execute_result"
    }
   ],
   "source": [
    "model.fit_transform(data_train)\n",
    "model.transform(data_test)"
   ]
  },
  {
   "cell_type": "markdown",
   "metadata": {},
   "source": [
    "Implement and train `KNeighborsClassifier` on your projected 2D training data here. You can name your variable `knmodel`. You can use any `K` value from 1 - 15, so play around with it and see what results you can come up. Your goal is to find a good balance where you aren't too specific (low-K), nor are you too general (high-K). You should also experiment with how changing the weights parameter affects the results."
   ]
  },
  {
   "cell_type": "code",
   "execution_count": 195,
   "metadata": {
    "collapsed": false
   },
   "outputs": [
    {
     "data": {
      "text/plain": [
       "KNeighborsClassifier(algorithm='auto', leaf_size=30, metric='minkowski',\n",
       "           metric_params=None, n_jobs=1, n_neighbors=4, p=2,\n",
       "           weights='distance')"
      ]
     },
     "execution_count": 195,
     "metadata": {},
     "output_type": "execute_result"
    }
   ],
   "source": [
    "from sklearn.neighbors import KNeighborsClassifier\n",
    "knn = KNeighborsClassifier(n_neighbors = 4, weights = 'distance')\n",
    "knn.fit(data_train, label_train)"
   ]
  },
  {
   "cell_type": "markdown",
   "metadata": {
    "collapsed": false
   },
   "source": [
    "Be sure to always keep the domain of the problem in mind! It's WAY more important to errantly classify a benign tumor as malignant, and have it removed, than to incorrectly leave a malignant tumor, believing it to be benign, and then having the patient progress in cancer. Since the UDF weights don't give you any class information, the only way to introduce this data into SKLearn's KNN Classifier is by \"baking\" it into your data. For example, randomly reducing the ratio of benign samples compared to malignant samples from the training set."
   ]
  },
  {
   "cell_type": "markdown",
   "metadata": {
    "collapsed": true
   },
   "source": [
    "Calculate and display the accuracy of the testing set:"
   ]
  },
  {
   "cell_type": "code",
   "execution_count": 196,
   "metadata": {
    "collapsed": false
   },
   "outputs": [
    {
     "data": {
      "text/plain": [
       "0.95999999999999996"
      ]
     },
     "execution_count": 196,
     "metadata": {},
     "output_type": "execute_result"
    }
   ],
   "source": [
    "knn.score(data_test, label_test)"
   ]
  },
  {
   "cell_type": "code",
   "execution_count": 197,
   "metadata": {
    "collapsed": false
   },
   "outputs": [
    {
     "name": "stdout",
     "output_type": "stream",
     "text": [
      "Plotting...\n"
     ]
    },
    {
     "ename": "TypeError",
     "evalue": "unhashable type: 'slice'",
     "output_type": "error",
     "traceback": [
      "\u001b[0;31m---------------------------------------------------------------------------\u001b[0m",
      "\u001b[0;31mTypeError\u001b[0m                                 Traceback (most recent call last)",
      "\u001b[0;32m<ipython-input-197-5ccf692ecbc3>\u001b[0m in \u001b[0;36m<module>\u001b[0;34m()\u001b[0m\n\u001b[0;32m----> 1\u001b[0;31m \u001b[0mplotDecisionBoundary\u001b[0m\u001b[1;33m(\u001b[0m\u001b[0mknn\u001b[0m\u001b[1;33m,\u001b[0m \u001b[0mdata_test\u001b[0m\u001b[1;33m,\u001b[0m \u001b[0mlabel_test\u001b[0m\u001b[1;33m)\u001b[0m\u001b[1;33m\u001b[0m\u001b[0m\n\u001b[0m",
      "\u001b[0;32m<ipython-input-187-ed517079edec>\u001b[0m in \u001b[0;36mplotDecisionBoundary\u001b[0;34m(model, X, y)\u001b[0m\n\u001b[1;32m     13\u001b[0m \u001b[1;33m\u001b[0m\u001b[0m\n\u001b[1;32m     14\u001b[0m     \u001b[1;31m# Calculate the boundaris\u001b[0m\u001b[1;33m\u001b[0m\u001b[1;33m\u001b[0m\u001b[0m\n\u001b[0;32m---> 15\u001b[0;31m     \u001b[0mx_min\u001b[0m\u001b[1;33m,\u001b[0m \u001b[0mx_max\u001b[0m \u001b[1;33m=\u001b[0m \u001b[0mX\u001b[0m\u001b[1;33m[\u001b[0m\u001b[1;33m:\u001b[0m\u001b[1;33m,\u001b[0m \u001b[1;36m0\u001b[0m\u001b[1;33m]\u001b[0m\u001b[1;33m.\u001b[0m\u001b[0mmin\u001b[0m\u001b[1;33m(\u001b[0m\u001b[1;33m)\u001b[0m\u001b[1;33m,\u001b[0m \u001b[0mX\u001b[0m\u001b[1;33m[\u001b[0m\u001b[1;33m:\u001b[0m\u001b[1;33m,\u001b[0m \u001b[1;36m0\u001b[0m\u001b[1;33m]\u001b[0m\u001b[1;33m.\u001b[0m\u001b[0mmax\u001b[0m\u001b[1;33m(\u001b[0m\u001b[1;33m)\u001b[0m\u001b[1;33m\u001b[0m\u001b[0m\n\u001b[0m\u001b[1;32m     16\u001b[0m     \u001b[0my_min\u001b[0m\u001b[1;33m,\u001b[0m \u001b[0my_max\u001b[0m \u001b[1;33m=\u001b[0m \u001b[0mX\u001b[0m\u001b[1;33m[\u001b[0m\u001b[1;33m:\u001b[0m\u001b[1;33m,\u001b[0m \u001b[1;36m1\u001b[0m\u001b[1;33m]\u001b[0m\u001b[1;33m.\u001b[0m\u001b[0mmin\u001b[0m\u001b[1;33m(\u001b[0m\u001b[1;33m)\u001b[0m\u001b[1;33m,\u001b[0m \u001b[0mX\u001b[0m\u001b[1;33m[\u001b[0m\u001b[1;33m:\u001b[0m\u001b[1;33m,\u001b[0m \u001b[1;36m1\u001b[0m\u001b[1;33m]\u001b[0m\u001b[1;33m.\u001b[0m\u001b[0mmax\u001b[0m\u001b[1;33m(\u001b[0m\u001b[1;33m)\u001b[0m\u001b[1;33m\u001b[0m\u001b[0m\n\u001b[1;32m     17\u001b[0m     \u001b[0mx_range\u001b[0m \u001b[1;33m=\u001b[0m \u001b[0mx_max\u001b[0m \u001b[1;33m-\u001b[0m \u001b[0mx_min\u001b[0m\u001b[1;33m\u001b[0m\u001b[0m\n",
      "\u001b[0;32mC:\\ProgramData\\Anaconda3\\lib\\site-packages\\pandas\\core\\frame.py\u001b[0m in \u001b[0;36m__getitem__\u001b[0;34m(self, key)\u001b[0m\n\u001b[1;32m   2057\u001b[0m             \u001b[1;32mreturn\u001b[0m \u001b[0mself\u001b[0m\u001b[1;33m.\u001b[0m\u001b[0m_getitem_multilevel\u001b[0m\u001b[1;33m(\u001b[0m\u001b[0mkey\u001b[0m\u001b[1;33m)\u001b[0m\u001b[1;33m\u001b[0m\u001b[0m\n\u001b[1;32m   2058\u001b[0m         \u001b[1;32melse\u001b[0m\u001b[1;33m:\u001b[0m\u001b[1;33m\u001b[0m\u001b[0m\n\u001b[0;32m-> 2059\u001b[0;31m             \u001b[1;32mreturn\u001b[0m \u001b[0mself\u001b[0m\u001b[1;33m.\u001b[0m\u001b[0m_getitem_column\u001b[0m\u001b[1;33m(\u001b[0m\u001b[0mkey\u001b[0m\u001b[1;33m)\u001b[0m\u001b[1;33m\u001b[0m\u001b[0m\n\u001b[0m\u001b[1;32m   2060\u001b[0m \u001b[1;33m\u001b[0m\u001b[0m\n\u001b[1;32m   2061\u001b[0m     \u001b[1;32mdef\u001b[0m \u001b[0m_getitem_column\u001b[0m\u001b[1;33m(\u001b[0m\u001b[0mself\u001b[0m\u001b[1;33m,\u001b[0m \u001b[0mkey\u001b[0m\u001b[1;33m)\u001b[0m\u001b[1;33m:\u001b[0m\u001b[1;33m\u001b[0m\u001b[0m\n",
      "\u001b[0;32mC:\\ProgramData\\Anaconda3\\lib\\site-packages\\pandas\\core\\frame.py\u001b[0m in \u001b[0;36m_getitem_column\u001b[0;34m(self, key)\u001b[0m\n\u001b[1;32m   2064\u001b[0m         \u001b[1;31m# get column\u001b[0m\u001b[1;33m\u001b[0m\u001b[1;33m\u001b[0m\u001b[0m\n\u001b[1;32m   2065\u001b[0m         \u001b[1;32mif\u001b[0m \u001b[0mself\u001b[0m\u001b[1;33m.\u001b[0m\u001b[0mcolumns\u001b[0m\u001b[1;33m.\u001b[0m\u001b[0mis_unique\u001b[0m\u001b[1;33m:\u001b[0m\u001b[1;33m\u001b[0m\u001b[0m\n\u001b[0;32m-> 2066\u001b[0;31m             \u001b[1;32mreturn\u001b[0m \u001b[0mself\u001b[0m\u001b[1;33m.\u001b[0m\u001b[0m_get_item_cache\u001b[0m\u001b[1;33m(\u001b[0m\u001b[0mkey\u001b[0m\u001b[1;33m)\u001b[0m\u001b[1;33m\u001b[0m\u001b[0m\n\u001b[0m\u001b[1;32m   2067\u001b[0m \u001b[1;33m\u001b[0m\u001b[0m\n\u001b[1;32m   2068\u001b[0m         \u001b[1;31m# duplicate columns & possible reduce dimensionality\u001b[0m\u001b[1;33m\u001b[0m\u001b[1;33m\u001b[0m\u001b[0m\n",
      "\u001b[0;32mC:\\ProgramData\\Anaconda3\\lib\\site-packages\\pandas\\core\\generic.py\u001b[0m in \u001b[0;36m_get_item_cache\u001b[0;34m(self, item)\u001b[0m\n\u001b[1;32m   1382\u001b[0m         \u001b[1;34m\"\"\"Return the cached item, item represents a label indexer.\"\"\"\u001b[0m\u001b[1;33m\u001b[0m\u001b[0m\n\u001b[1;32m   1383\u001b[0m         \u001b[0mcache\u001b[0m \u001b[1;33m=\u001b[0m \u001b[0mself\u001b[0m\u001b[1;33m.\u001b[0m\u001b[0m_item_cache\u001b[0m\u001b[1;33m\u001b[0m\u001b[0m\n\u001b[0;32m-> 1384\u001b[0;31m         \u001b[0mres\u001b[0m \u001b[1;33m=\u001b[0m \u001b[0mcache\u001b[0m\u001b[1;33m.\u001b[0m\u001b[0mget\u001b[0m\u001b[1;33m(\u001b[0m\u001b[0mitem\u001b[0m\u001b[1;33m)\u001b[0m\u001b[1;33m\u001b[0m\u001b[0m\n\u001b[0m\u001b[1;32m   1385\u001b[0m         \u001b[1;32mif\u001b[0m \u001b[0mres\u001b[0m \u001b[1;32mis\u001b[0m \u001b[1;32mNone\u001b[0m\u001b[1;33m:\u001b[0m\u001b[1;33m\u001b[0m\u001b[0m\n\u001b[1;32m   1386\u001b[0m             \u001b[0mvalues\u001b[0m \u001b[1;33m=\u001b[0m \u001b[0mself\u001b[0m\u001b[1;33m.\u001b[0m\u001b[0m_data\u001b[0m\u001b[1;33m.\u001b[0m\u001b[0mget\u001b[0m\u001b[1;33m(\u001b[0m\u001b[0mitem\u001b[0m\u001b[1;33m)\u001b[0m\u001b[1;33m\u001b[0m\u001b[0m\n",
      "\u001b[0;31mTypeError\u001b[0m: unhashable type: 'slice'"
     ]
    }
   ],
   "source": [
    "plotDecisionBoundary(knn, data_test, label_test)"
   ]
  },
  {
   "cell_type": "code",
   "execution_count": null,
   "metadata": {
    "collapsed": true
   },
   "outputs": [],
   "source": []
  }
 ],
 "metadata": {
  "anaconda-cloud": {},
  "kernelspec": {
   "display_name": "Python 3",
   "language": "python",
   "name": "python3"
  },
  "language_info": {
   "codemirror_mode": {
    "name": "ipython",
    "version": 3
   },
   "file_extension": ".py",
   "mimetype": "text/x-python",
   "name": "python",
   "nbconvert_exporter": "python",
   "pygments_lexer": "ipython3",
   "version": "3.6.0"
  },
  "toc": {
   "colors": {
    "hover_highlight": "#DAA520",
    "running_highlight": "#FF0000",
    "selected_highlight": "#FFD700"
   },
   "moveMenuLeft": true,
   "nav_menu": {
    "height": "58px",
    "width": "252px"
   },
   "navigate_menu": true,
   "number_sections": true,
   "sideBar": true,
   "threshold": 4,
   "toc_cell": false,
   "toc_section_display": "block",
   "toc_window_display": false,
   "widenNotebook": false
  }
 },
 "nbformat": 4,
 "nbformat_minor": 2
}
