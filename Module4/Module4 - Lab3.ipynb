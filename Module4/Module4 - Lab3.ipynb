{
 "cells": [
  {
   "cell_type": "markdown",
   "metadata": {},
   "source": [
    "# DAT210x - Programming with Python for DS"
   ]
  },
  {
   "cell_type": "markdown",
   "metadata": {},
   "source": [
    "## Module4- Lab3"
   ]
  },
  {
   "cell_type": "markdown",
   "metadata": {
    "collapsed": true
   },
   "source": [
    "This code is intentionally missing! Read the directions on the course lab page!"
   ]
  },
  {
   "cell_type": "code",
   "execution_count": 83,
   "metadata": {
    "collapsed": true
   },
   "outputs": [],
   "source": [
    "import math\n",
    "import pandas as pd\n",
    "import matplotlib.pyplot as plt\n",
    "import matplotlib\n",
    "\n",
    "from sklearn import preprocessing"
   ]
  },
  {
   "cell_type": "code",
   "execution_count": 84,
   "metadata": {
    "collapsed": true
   },
   "outputs": [],
   "source": [
    "# Look pretty...\n",
    "\n",
    "# matplotlib.style.use('ggplot')\n",
    "plt.style.use('ggplot')"
   ]
  },
  {
   "cell_type": "code",
   "execution_count": 85,
   "metadata": {
    "collapsed": true
   },
   "outputs": [],
   "source": [
    "df = pd.read_csv(\"Datasets/kidney_disease.csv\")\n",
    "df.dtypes\n",
    "labels = ['red' if i=='ckd' else 'green' for i in df.classification]"
   ]
  },
  {
   "cell_type": "code",
   "execution_count": 86,
   "metadata": {
    "collapsed": false
   },
   "outputs": [
    {
     "data": {
      "text/plain": [
       "index               int64\n",
       "age               float64\n",
       "bp                float64\n",
       "sg                float64\n",
       "al                float64\n",
       "su                float64\n",
       "bgr               float64\n",
       "bu                float64\n",
       "sc                float64\n",
       "sod               float64\n",
       "pot               float64\n",
       "hemo              float64\n",
       "pcv                object\n",
       "wc                 object\n",
       "rc                 object\n",
       "rbc_abnormal        uint8\n",
       "rbc_normal          uint8\n",
       "pc_abnormal         uint8\n",
       "pc_normal           uint8\n",
       "pcc_notpresent      uint8\n",
       "pcc_present         uint8\n",
       "ba_notpresent       uint8\n",
       "ba_present          uint8\n",
       "htn_no              uint8\n",
       "htn_yes             uint8\n",
       "dm_no               uint8\n",
       "dm_yes              uint8\n",
       "cad_no              uint8\n",
       "cad_yes             uint8\n",
       "appet_good          uint8\n",
       "appet_poor          uint8\n",
       "pe_no               uint8\n",
       "pe_yes              uint8\n",
       "ane_no              uint8\n",
       "ane_yes             uint8\n",
       "dtype: object"
      ]
     },
     "execution_count": 86,
     "metadata": {},
     "output_type": "execute_result"
    }
   ],
   "source": [
    "df = df.drop(labels=['id', 'classification'], axis=1).dropna().reset_index()\n",
    "df = pd.get_dummies(df,columns=['rbc', 'pc', 'pcc', 'ba', 'htn', 'dm', 'cad', 'appet', 'pe', 'ane'])\n",
    "df.dtypes"
   ]
  },
  {
   "cell_type": "code",
   "execution_count": 87,
   "metadata": {
    "collapsed": false
   },
   "outputs": [
    {
     "data": {
      "text/plain": [
       "index               int64\n",
       "age               float64\n",
       "bp                float64\n",
       "sg                float64\n",
       "al                float64\n",
       "su                float64\n",
       "bgr               float64\n",
       "bu                float64\n",
       "sc                float64\n",
       "sod               float64\n",
       "pot               float64\n",
       "hemo              float64\n",
       "pcv                 int64\n",
       "wc                  int64\n",
       "rc                float64\n",
       "rbc_abnormal        uint8\n",
       "rbc_normal          uint8\n",
       "pc_abnormal         uint8\n",
       "pc_normal           uint8\n",
       "pcc_notpresent      uint8\n",
       "pcc_present         uint8\n",
       "ba_notpresent       uint8\n",
       "ba_present          uint8\n",
       "htn_no              uint8\n",
       "htn_yes             uint8\n",
       "dm_no               uint8\n",
       "dm_yes              uint8\n",
       "cad_no              uint8\n",
       "cad_yes             uint8\n",
       "appet_good          uint8\n",
       "appet_poor          uint8\n",
       "pe_no               uint8\n",
       "pe_yes              uint8\n",
       "ane_no              uint8\n",
       "ane_yes             uint8\n",
       "dtype: object"
      ]
     },
     "execution_count": 87,
     "metadata": {},
     "output_type": "execute_result"
    }
   ],
   "source": [
    "df.pcv = pd.to_numeric(df.pcv, errors='coerce')\n",
    "df.wc = pd.to_numeric(df.wc, errors='coerce')\n",
    "df.rc= pd.to_numeric(df.rc, errors='coerce')\n",
    "df.dtypes"
   ]
  },
  {
   "cell_type": "code",
   "execution_count": 88,
   "metadata": {
    "collapsed": true
   },
   "outputs": [],
   "source": [
    "def scaleFeaturesDF(df):\n",
    "    # Feature scaling is a type of transformation that only changes the\n",
    "    # scale, but not number of features. Because of this, we can still\n",
    "    # use the original dataset's column names... so long as we keep in\n",
    "    # mind that the _units_ have been altered:\n",
    "\n",
    "    scaled = preprocessing.StandardScaler().fit_transform(df)\n",
    "    scaled = pd.DataFrame(scaled, columns=df.columns)\n",
    "    \n",
    "    print(\"New Variances:\\n\", scaled.var())\n",
    "    print(\"New Describe:\\n\", scaled.describe())\n",
    "    return scaled"
   ]
  },
  {
   "cell_type": "code",
   "execution_count": 89,
   "metadata": {
    "collapsed": true
   },
   "outputs": [],
   "source": [
    "def drawVectors(transformed_features, components_, columns, plt, scaled):\n",
    "    if not scaled:\n",
    "        return plt.axes() # No cheating ;-)\n",
    "\n",
    "    num_columns = len(columns)\n",
    "\n",
    "    # This funtion will project your *original* feature (columns)\n",
    "    # onto your principal component feature-space, so that you can\n",
    "    # visualize how \"important\" each one was in the\n",
    "    # multi-dimensional scaling\n",
    "\n",
    "    # Scale the principal components by the max value in\n",
    "    # the transformed set belonging to that component\n",
    "    xvector = components_[0] * max(transformed_features[:,0])\n",
    "    yvector = components_[1] * max(transformed_features[:,1])\n",
    "\n",
    "    ## visualize projections\n",
    "\n",
    "    # Sort each column by it's length. These are your *original*\n",
    "    # columns, not the principal components.\n",
    "    important_features = { columns[i] : math.sqrt(xvector[i]**2 + yvector[i]**2) for i in range(num_columns) }\n",
    "    important_features = sorted(zip(important_features.values(), important_features.keys()), reverse=True)\n",
    "    print(\"Features by importance:\\n\", important_features)\n",
    "\n",
    "    ax = plt.axes()\n",
    "\n",
    "    for i in range(num_columns):\n",
    "        # Use an arrow to project each original feature as a\n",
    "        # labeled vector on your principal component axes\n",
    "        plt.arrow(0, 0, xvector[i], yvector[i], color='b', width=0.0005, head_width=0.02, alpha=0.75)\n",
    "        plt.text(xvector[i]*1.2, yvector[i]*1.2, list(columns)[i], color='b', alpha=0.75)\n",
    "\n",
    "    return ax"
   ]
  },
  {
   "cell_type": "code",
   "execution_count": 90,
   "metadata": {
    "collapsed": true
   },
   "outputs": [],
   "source": [
    "# Do * NOT * alter this line, until instructed!\n",
    "scaleFeatures = True"
   ]
  },
  {
   "cell_type": "code",
   "execution_count": 91,
   "metadata": {
    "collapsed": false
   },
   "outputs": [
    {
     "name": "stdout",
     "output_type": "stream",
     "text": [
      "New Variances:\n",
      " index             1.006369\n",
      "age               1.006369\n",
      "bp                1.006369\n",
      "sg                1.006369\n",
      "al                1.006369\n",
      "su                1.006369\n",
      "bgr               1.006369\n",
      "bu                1.006369\n",
      "sc                1.006369\n",
      "sod               1.006369\n",
      "pot               1.006369\n",
      "hemo              1.006369\n",
      "pcv               1.006369\n",
      "wc                1.006369\n",
      "rc                1.006369\n",
      "rbc_abnormal      1.006369\n",
      "rbc_normal        1.006369\n",
      "pc_abnormal       1.006369\n",
      "pc_normal         1.006369\n",
      "pcc_notpresent    1.006369\n",
      "pcc_present       1.006369\n",
      "ba_notpresent     1.006369\n",
      "ba_present        1.006369\n",
      "htn_no            1.006369\n",
      "htn_yes           1.006369\n",
      "dm_no             1.006369\n",
      "dm_yes            1.006369\n",
      "cad_no            1.006369\n",
      "cad_yes           1.006369\n",
      "appet_good        1.006369\n",
      "appet_poor        1.006369\n",
      "pe_no             1.006369\n",
      "pe_yes            1.006369\n",
      "ane_no            1.006369\n",
      "ane_yes           1.006369\n",
      "dtype: float64\n",
      "New Describe:\n",
      "               index           age            bp            sg            al  \\\n",
      "count  1.580000e+02  1.580000e+02  1.580000e+02  1.580000e+02  1.580000e+02   \n",
      "mean   2.389088e-17  1.032929e-16  7.406171e-16 -1.624580e-15 -7.757508e-16   \n",
      "std    1.003180e+00  1.003180e+00  1.003180e+00  1.003180e+00  1.003180e+00   \n",
      "min   -2.647671e+00 -2.817246e+00 -2.158952e+00 -2.713365e+00 -5.661221e-01   \n",
      "25%   -3.101309e-01 -6.669624e-01 -1.261282e+00  2.309247e-02 -5.661221e-01   \n",
      "50%    2.304252e-01  6.057713e-02  5.340564e-01  2.309247e-02 -5.661221e-01   \n",
      "75%    7.880258e-01  6.749439e-01  5.340564e-01  9.352451e-01  1.437770e-01   \n",
      "max    1.209270e+00  2.162358e+00  3.227064e+00  9.352451e-01  2.273474e+00   \n",
      "\n",
      "                 su           bgr            bu            sc           sod  \\\n",
      "count  1.580000e+02  1.580000e+02  1.580000e+02  1.580000e+02  1.580000e+02   \n",
      "mean  -2.108018e-18 -9.755075e-17 -2.578809e-16  7.869935e-17  8.119384e-16   \n",
      "std    1.003180e+00  1.003180e+00  1.003180e+00  1.003180e+00  1.003180e+00   \n",
      "min   -3.122333e-01 -9.475974e-01 -9.011706e-01 -5.830146e-01 -3.730148e+00   \n",
      "25%   -3.122333e-01 -5.305059e-01 -5.625116e-01 -4.852266e-01 -5.154386e-01   \n",
      "50%   -3.122333e-01 -2.447210e-01 -2.767680e-01 -3.548426e-01  2.034626e-02   \n",
      "75%   -3.122333e-01  6.306235e-03 -5.981458e-02 -1.918626e-01  6.900774e-01   \n",
      "max    5.854375e+00  5.540492e+00  5.427520e+00  4.241194e+00  1.493755e+00   \n",
      "\n",
      "           ...              dm_no        dm_yes        cad_no       cad_yes  \\\n",
      "count      ...       1.580000e+02  1.580000e+02  1.580000e+02  1.580000e+02   \n",
      "mean       ...      -5.417607e-16  3.478230e-16  8.207218e-16 -3.941994e-16   \n",
      "std        ...       1.003180e+00  1.003180e+00  1.003180e+00  1.003180e+00   \n",
      "min        ...      -2.154729e+00 -4.640955e-01 -3.655631e+00 -2.735506e-01   \n",
      "25%        ...       4.640955e-01 -4.640955e-01  2.735506e-01 -2.735506e-01   \n",
      "50%        ...       4.640955e-01 -4.640955e-01  2.735506e-01 -2.735506e-01   \n",
      "75%        ...       4.640955e-01 -4.640955e-01  2.735506e-01 -2.735506e-01   \n",
      "max        ...       4.640955e-01  2.154729e+00  2.735506e-01  3.655631e+00   \n",
      "\n",
      "         appet_good    appet_poor         pe_no        pe_yes        ane_no  \\\n",
      "count  1.580000e+02  1.580000e+02  1.580000e+02  1.580000e+02  1.580000e+02   \n",
      "mean   3.913887e-16 -3.927941e-16 -8.291539e-16  8.291539e-16 -1.686415e-16   \n",
      "std    1.003180e+00  1.003180e+00  1.003180e+00  1.003180e+00  1.003180e+00   \n",
      "min   -2.704772e+00 -3.697170e-01 -2.626785e+00 -3.806935e-01 -2.979094e+00   \n",
      "25%    3.697170e-01 -3.697170e-01  3.806935e-01 -3.806935e-01  3.356725e-01   \n",
      "50%    3.697170e-01 -3.697170e-01  3.806935e-01 -3.806935e-01  3.356725e-01   \n",
      "75%    3.697170e-01 -3.697170e-01  3.806935e-01 -3.806935e-01  3.356725e-01   \n",
      "max    3.697170e-01  2.704772e+00  3.806935e-01  2.626785e+00  3.356725e-01   \n",
      "\n",
      "            ane_yes  \n",
      "count  1.580000e+02  \n",
      "mean   7.869935e-17  \n",
      "std    1.003180e+00  \n",
      "min   -3.356725e-01  \n",
      "25%   -3.356725e-01  \n",
      "50%   -3.356725e-01  \n",
      "75%   -3.356725e-01  \n",
      "max    2.979094e+00  \n",
      "\n",
      "[8 rows x 35 columns]\n"
     ]
    }
   ],
   "source": [
    "if scaleFeatures: df = scaleFeaturesDF(df)"
   ]
  },
  {
   "cell_type": "code",
   "execution_count": 92,
   "metadata": {
    "collapsed": false
   },
   "outputs": [
    {
     "data": {
      "text/plain": [
       "array([[  7.78191680e+00,  -5.42323904e+00],\n",
       "       [  8.56621152e+00,  -3.79723102e+00],\n",
       "       [  8.50863339e+00,   5.08338257e-01],\n",
       "       [  1.08848197e+01,   2.28384668e+00],\n",
       "       [  9.75387649e+00,  -9.13907817e-02],\n",
       "       [  4.18573770e+00,  -3.43830965e+00],\n",
       "       [  6.84110952e+00,   4.78353957e+00],\n",
       "       [  3.86487600e+00,   3.32530490e-01],\n",
       "       [  5.79814288e+00,   4.37733256e+00],\n",
       "       [  2.73044965e+00,   7.97478593e-01],\n",
       "       [  4.10396542e+00,   2.08007720e-01],\n",
       "       [  6.53624286e+00,   2.04302521e+00],\n",
       "       [  7.77148012e+00,  -5.56530857e+00],\n",
       "       [  3.60899572e+00,   5.57590824e+00],\n",
       "       [  3.58157897e-01,   1.95111291e+00],\n",
       "       [  7.07915240e+00,   3.95520964e+00],\n",
       "       [  9.10573672e+00,   3.40835460e+00],\n",
       "       [  4.97797723e+00,  -9.34645835e-01],\n",
       "       [  7.14370318e+00,  -1.21379126e+00],\n",
       "       [  8.52619352e+00,  -4.86500937e+00],\n",
       "       [  1.09697324e+00,   4.77518385e-02],\n",
       "       [  1.12587243e+00,   6.49317614e-01],\n",
       "       [  6.80202713e+00,  -3.65697489e+00],\n",
       "       [  1.03549886e+01,  -2.34477356e+00],\n",
       "       [  2.51780562e+00,   7.95715558e-01],\n",
       "       [  3.54803924e+00,   1.18343697e+00],\n",
       "       [  4.21349811e+00,  -4.16208425e+00],\n",
       "       [  5.08775691e+00,  -2.83103035e+00],\n",
       "       [  1.96921628e+00,  -1.83286079e+00],\n",
       "       [  8.26729719e+00,   2.41805729e+00],\n",
       "       [  4.05804955e+00,   8.65153309e-02],\n",
       "       [  9.46761073e+00,  -3.18383114e+00],\n",
       "       [  5.55548340e+00,   5.88335726e-01],\n",
       "       [  6.75648200e+00,   1.35931208e+00],\n",
       "       [  6.31106915e+00,   3.33327604e-01],\n",
       "       [  6.96998360e+00,   1.67907828e+00],\n",
       "       [  6.03405667e+00,   6.83390844e+00],\n",
       "       [  7.54186029e+00,   3.52621501e+00],\n",
       "       [  5.38533718e+00,  -7.58479890e-01],\n",
       "       [  1.04832625e+01,   1.89169757e+00],\n",
       "       [  7.48830855e+00,  -1.64786947e+00],\n",
       "       [  5.70283574e+00,   6.73256698e+00],\n",
       "       [  1.15074682e+01,  -5.40218039e+00],\n",
       "       [ -1.86356180e+00,  -1.20545147e-01],\n",
       "       [ -2.70900872e+00,  -2.20995257e-01],\n",
       "       [ -2.21744811e+00,  -1.75016729e-01],\n",
       "       [ -2.12698767e+00,  -2.07738252e-03],\n",
       "       [ -2.05745366e+00,  -3.12155813e-01],\n",
       "       [ -2.45480493e+00,   1.62097902e-02],\n",
       "       [ -1.98077930e+00,   2.13581859e-01],\n",
       "       [ -2.08019483e+00,  -3.46908541e-01],\n",
       "       [ -1.97988359e+00,  -1.15304924e-01],\n",
       "       [ -2.02326121e+00,  -2.57278489e-01],\n",
       "       [ -1.98953183e+00,  -4.67900540e-03],\n",
       "       [ -1.89372474e+00,  -7.28464732e-03],\n",
       "       [ -1.85689605e+00,   1.01218860e-02],\n",
       "       [ -1.83572240e+00,  -1.36372149e-01],\n",
       "       [ -1.95044063e+00,   3.61823721e-02],\n",
       "       [ -2.04459547e+00,   7.27590807e-02],\n",
       "       [ -1.57043281e+00,  -3.81620542e-02],\n",
       "       [ -2.07428016e+00,   2.75004252e-02],\n",
       "       [ -2.37730951e+00,  -1.49647037e-01],\n",
       "       [ -2.15009111e+00,  -3.03834106e-01],\n",
       "       [ -2.03811270e+00,  -3.39296315e-01],\n",
       "       [ -1.96145228e+00,   1.85853342e-02],\n",
       "       [ -1.90418024e+00,   4.24773249e-02],\n",
       "       [ -2.21148698e+00,  -2.20693535e-01],\n",
       "       [ -2.19441440e+00,  -4.86225652e-02],\n",
       "       [ -2.59986330e+00,  -4.81456161e-02],\n",
       "       [ -2.16462104e+00,   1.28627018e-01],\n",
       "       [ -1.90909135e+00,  -4.26947044e-01],\n",
       "       [ -2.73244992e+00,  -8.02063298e-02],\n",
       "       [ -2.11756195e+00,   6.46220648e-03],\n",
       "       [ -2.20663135e+00,   1.53630399e-01],\n",
       "       [ -2.28056425e+00,  -1.12016905e-01],\n",
       "       [ -2.07244984e+00,  -1.10598688e-01],\n",
       "       [ -2.26008213e+00,  -2.47956903e-01],\n",
       "       [ -2.25450587e+00,  -5.18906503e-03],\n",
       "       [ -1.93563245e+00,  -5.16666648e-01],\n",
       "       [ -2.16182474e+00,   3.94715114e-01],\n",
       "       [ -2.54484095e+00,  -1.21212859e-01],\n",
       "       [ -1.85925799e+00,  -3.60434803e-01],\n",
       "       [ -2.01388990e+00,  -6.22522386e-02],\n",
       "       [ -2.28663001e+00,   1.86622722e-01],\n",
       "       [ -2.14132711e+00,   1.93520446e-01],\n",
       "       [ -2.07272433e+00,  -4.55462996e-01],\n",
       "       [ -2.05651548e+00,  -1.59679203e-01],\n",
       "       [ -2.42781585e+00,   1.74409463e-01],\n",
       "       [ -2.29441795e+00,   1.32532006e-01],\n",
       "       [ -2.14352750e+00,  -1.21286934e-01],\n",
       "       [ -1.77534053e+00,  -1.92424503e-01],\n",
       "       [ -2.54510811e+00,   1.38886820e-01],\n",
       "       [ -2.42876657e+00,   1.53501168e-01],\n",
       "       [ -2.02780303e+00,   6.05398521e-02],\n",
       "       [ -2.17251809e+00,  -4.05607817e-02],\n",
       "       [ -2.24671995e+00,   4.04269796e-02],\n",
       "       [ -2.18247668e+00,  -1.05136841e-01],\n",
       "       [ -2.56261926e+00,  -8.81107346e-02],\n",
       "       [ -2.67285130e+00,  -2.83015860e-01],\n",
       "       [ -2.13607267e+00,   8.81630230e-02],\n",
       "       [ -2.54322774e+00,  -2.04760687e-01],\n",
       "       [ -2.05492140e+00,   8.70675948e-02],\n",
       "       [ -2.64980610e+00,  -1.55722811e-01],\n",
       "       [ -2.22516236e+00,   3.48606389e-01],\n",
       "       [ -2.11734385e+00,  -5.01853260e-01],\n",
       "       [ -2.52458248e+00,  -2.71064412e-01],\n",
       "       [ -2.08864499e+00,   1.32247254e-01],\n",
       "       [ -2.53727372e+00,  -1.39706086e-01],\n",
       "       [ -2.70801124e+00,  -2.21204270e-01],\n",
       "       [ -2.19460350e+00,   1.63103129e-01],\n",
       "       [ -2.60481717e+00,  -4.43015847e-01],\n",
       "       [ -2.77629808e+00,  -3.82968707e-02],\n",
       "       [ -2.50341960e+00,   5.30915408e-02],\n",
       "       [ -2.08305046e+00,  -4.34436284e-01],\n",
       "       [ -2.33228251e+00,  -2.09641088e-01],\n",
       "       [ -2.50268597e+00,  -1.23706664e-01],\n",
       "       [ -2.64032580e+00,  -1.87374601e-01],\n",
       "       [ -2.63271159e+00,  -2.26850155e-01],\n",
       "       [ -2.94422628e+00,  -1.44993480e-01],\n",
       "       [ -2.01314585e+00,  -6.84175429e-02],\n",
       "       [ -2.21893787e+00,  -1.11463510e-01],\n",
       "       [ -2.54735715e+00,   2.19121255e-01],\n",
       "       [ -2.57837546e+00,  -3.47232597e-01],\n",
       "       [ -2.62230986e+00,  -2.71914608e-01],\n",
       "       [ -2.26506127e+00,  -3.36721400e-01],\n",
       "       [ -1.90410924e+00,  -6.30107821e-03],\n",
       "       [ -2.39532469e+00,  -5.50695317e-02],\n",
       "       [ -2.75176848e+00,   2.14164311e-01],\n",
       "       [ -2.63131805e+00,  -2.76097905e-01],\n",
       "       [ -1.88478850e+00,   9.91979810e-02],\n",
       "       [ -2.29173502e+00,   6.26560471e-04],\n",
       "       [ -3.01533504e+00,  -2.97950778e-01],\n",
       "       [ -2.55167336e+00,   3.87331834e-01],\n",
       "       [ -2.14344568e+00,   4.94824907e-02],\n",
       "       [ -2.42532066e+00,   2.92252616e-01],\n",
       "       [ -2.26116146e+00,   5.41284169e-02],\n",
       "       [ -2.86481842e+00,   1.43626948e-01],\n",
       "       [ -2.25689820e+00,   9.09490765e-02],\n",
       "       [ -2.61074895e+00,  -8.59566353e-02],\n",
       "       [ -2.45497866e+00,   9.40081304e-02],\n",
       "       [ -2.94789769e+00,  -1.03157795e-01],\n",
       "       [ -2.15473475e+00,   1.70199576e-01],\n",
       "       [ -2.20479614e+00,   2.19962722e-01],\n",
       "       [ -2.56808598e+00,   3.14528074e-01],\n",
       "       [ -2.81934926e+00,  -6.54893046e-02],\n",
       "       [ -2.79993339e+00,  -4.02198806e-01],\n",
       "       [ -2.56708250e+00,   1.19364065e-01],\n",
       "       [ -2.75428707e+00,  -4.54725214e-02],\n",
       "       [ -2.49811478e+00,  -1.25565273e-01],\n",
       "       [ -2.83543768e+00,  -1.63413858e-01],\n",
       "       [ -2.22847019e+00,   2.29400487e-01],\n",
       "       [ -2.60231647e+00,  -1.42680821e-01],\n",
       "       [ -1.78713049e+00,  -6.66387381e-02],\n",
       "       [ -2.29922517e+00,   3.20929946e-01],\n",
       "       [ -3.07405939e+00,  -1.35046630e-01],\n",
       "       [ -2.57358954e+00,  -3.57639310e-01],\n",
       "       [ -2.69473114e+00,  -4.89544066e-01],\n",
       "       [ -2.77885608e+00,   2.99021665e-01]])"
      ]
     },
     "execution_count": 92,
     "metadata": {},
     "output_type": "execute_result"
    }
   ],
   "source": [
    "from sklearn.decomposition import PCA\n",
    "\n",
    "pca = PCA(n_components=2, svd_solver='full')\n",
    "pca.fit(df)\n",
    "T = pca.transform(df)\n",
    "T"
   ]
  },
  {
   "cell_type": "code",
   "execution_count": 93,
   "metadata": {
    "collapsed": false
   },
   "outputs": [
    {
     "name": "stdout",
     "output_type": "stream",
     "text": [
      "Features by importance:\n",
      " [(2.921347754589616, 'ane_no'), (2.9213477545896147, 'ane_yes'), (2.711654279069221, 'bgr'), (2.6375994160728133, 'dm_yes'), (2.637599416072813, 'dm_no'), (2.575566559885221, 'pcv'), (2.559402363095121, 'hemo'), (2.524470704272682, 'su'), (2.5187121882935526, 'al'), (2.513977163954696, 'htn_yes'), (2.513977163954696, 'htn_no'), (2.449564548074449, 'cad_yes'), (2.449564548074449, 'cad_no'), (2.4045207898378598, 'appet_poor'), (2.4045207898378593, 'appet_good'), (2.4007787303474255, 'sc'), (2.3985023971267903, 'pc_normal'), (2.398502397126789, 'pc_abnormal'), (2.3790735798852984, 'bu'), (2.3200563232994975, 'sg'), (2.3100826561487584, 'rc'), (2.259195741609331, 'index'), (2.1290197369462636, 'pe_yes'), (2.1290197369462636, 'pe_no'), (2.128619301298307, 'sod'), (1.9631993976597724, 'rbc_abnormal'), (1.9631993976597721, 'rbc_normal'), (1.9350969096928887, 'ba_present'), (1.9350969096928885, 'ba_notpresent'), (1.9247782547099188, 'pcc_present'), (1.9247782547099186, 'pcc_notpresent'), (1.2585977124565029, 'age'), (1.0187605693277155, 'bp'), (0.8965841722707604, 'wc'), (0.5491669705439899, 'pot')]\n"
     ]
    },
    {
     "data": {
      "image/png": "[encoded data removed]",
      "text/plain": [
       "<matplotlib.figure.Figure at 0x20e117876d8>"
      ]
     },
     "metadata": {},
     "output_type": "display_data"
    }
   ],
   "source": [
    "# Since we transformed via PCA, we no longer have column names; but we know we\n",
    "# are in `principal-component` space, so we'll just define the coordinates accordingly:\n",
    "ax = drawVectors(T, pca.components_, df.columns.values, plt, scaleFeatures)\n",
    "T  = pd.DataFrame(T)\n",
    "T.columns = ['component1', 'component2']\n",
    "T.plot.scatter(x='component1', y='component2', marker='o', c=labels , alpha=0.75, ax=ax)\n",
    "\n",
    "plt.show()\n",
    "\n"
   ]
  },
  {
   "cell_type": "code",
   "execution_count": null,
   "metadata": {
    "collapsed": true
   },
   "outputs": [],
   "source": []
  }
 ],
 "metadata": {
  "anaconda-cloud": {},
  "kernelspec": {
   "display_name": "Python 3",
   "language": "python",
   "name": "python3"
  },
  "language_info": {
   "codemirror_mode": {
    "name": "ipython",
    "version": 3
   },
   "file_extension": ".py",
   "mimetype": "text/x-python",
   "name": "python",
   "nbconvert_exporter": "python",
   "pygments_lexer": "ipython3",
   "version": "3.6.0"
  },
  "toc": {
   "colors": {
    "hover_highlight": "#DAA520",
    "running_highlight": "#FF0000",
    "selected_highlight": "#FFD700"
   },
   "moveMenuLeft": true,
   "nav_menu": {
    "height": "58px",
    "width": "252px"
   },
   "navigate_menu": true,
   "number_sections": true,
   "sideBar": true,
   "threshold": 4,
   "toc_cell": false,
   "toc_section_display": "block",
   "toc_window_display": false,
   "widenNotebook": false
  }
 },
 "nbformat": 4,
 "nbformat_minor": 2
}
