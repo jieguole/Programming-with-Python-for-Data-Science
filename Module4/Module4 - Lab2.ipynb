{
 "cells": [
  {
   "cell_type": "markdown",
   "metadata": {},
   "source": [
    "# DAT210x - Programming with Python for DS"
   ]
  },
  {
   "cell_type": "markdown",
   "metadata": {},
   "source": [
    "## Module4- Lab2"
   ]
  },
  {
   "cell_type": "code",
   "execution_count": 1,
   "metadata": {
    "collapsed": true
   },
   "outputs": [],
   "source": [
    "import math\n",
    "import pandas as pd\n",
    "import matplotlib.pyplot as plt\n",
    "import matplotlib\n",
    "\n",
    "from sklearn import preprocessing"
   ]
  },
  {
   "cell_type": "code",
   "execution_count": 2,
   "metadata": {
    "collapsed": true
   },
   "outputs": [],
   "source": [
    "# Look pretty...\n",
    "\n",
    "# matplotlib.style.use('ggplot')\n",
    "plt.style.use('ggplot')"
   ]
  },
  {
   "cell_type": "markdown",
   "metadata": {},
   "source": [
    "### Some Boilerplate Code"
   ]
  },
  {
   "cell_type": "markdown",
   "metadata": {
    "collapsed": true
   },
   "source": [
    "For your convenience, we've included some boilerplate code here which will help you out. You aren't expected to know how to write this code on your own at this point, but it'll assist with your visualizations. We've added some notes to the code in case you're interested in knowing what it's doing:"
   ]
  },
  {
   "cell_type": "markdown",
   "metadata": {
    "collapsed": true
   },
   "source": [
    "### A Note on SKLearn's `.transform()` calls:"
   ]
  },
  {
   "cell_type": "markdown",
   "metadata": {},
   "source": [
    "Any time you perform a transformation on your data, you lose the column header names because the output of SciKit-Learn's `.transform()` method is an NDArray and not a daraframe.\n",
    "\n",
    "This actually makes a lot of sense because there are essentially two types of transformations:\n",
    "- Those that adjust the scale of your features, and\n",
    "- Those that change alter the number of features, perhaps even changing their values entirely.\n",
    "\n",
    "An example of adjusting the scale of a feature would be changing centimeters to inches. Changing the feature entirely would be like using PCA to reduce 300 columns to 30. In either case, the original column's units have either been altered or no longer exist at all, so it's up to you to assign names to your columns after any transformation, if you'd like to store the resulting NDArray back into a dataframe."
   ]
  },
  {
   "cell_type": "code",
   "execution_count": 3,
   "metadata": {
    "collapsed": true
   },
   "outputs": [],
   "source": [
    "def scaleFeaturesDF(df):\n",
    "    # Feature scaling is a type of transformation that only changes the\n",
    "    # scale, but not number of features. Because of this, we can still\n",
    "    # use the original dataset's column names... so long as we keep in\n",
    "    # mind that the _units_ have been altered:\n",
    "\n",
    "    scaled = preprocessing.StandardScaler().fit_transform(df)\n",
    "    scaled = pd.DataFrame(scaled, columns=df.columns)\n",
    "    \n",
    "    print(\"New Variances:\\n\", scaled.var())\n",
    "    print(\"New Describe:\\n\", scaled.describe())\n",
    "    return scaled"
   ]
  },
  {
   "cell_type": "markdown",
   "metadata": {
    "collapsed": true
   },
   "source": [
    "SKLearn contains many methods for transforming your features by scaling them, a type of pre-processing):\n",
    "    - `RobustScaler`\n",
    "    - `Normalizer`\n",
    "    - `MinMaxScaler`\n",
    "    - `MaxAbsScaler`\n",
    "    - `StandardScaler`\n",
    "    - ...\n",
    "\n",
    "http://scikit-learn.org/stable/modules/classes.html#module-sklearn.preprocessing\n",
    "\n",
    "However in order to be effective at PCA, there are a few requirements that must be met, and which will drive the selection of your scaler. PCA requires your data is standardized -- in other words, it's _mean_ should equal 0, and it should have unit variance.\n",
    "\n",
    "SKLearn's regular `Normalizer()` doesn't zero out the mean of your data, it only clamps it, so it could be inappropriate to use depending on your data. `MinMaxScaler` and `MaxAbsScaler` both fail to set a unit variance, so you won't be using them here either. `RobustScaler` can work, again depending on your data (watch for outliers!). So for this assignment, you're going to use the `StandardScaler`. Get familiar with it by visiting these two websites:\n",
    "\n",
    "- http://scikit-learn.org/stable/modules/preprocessing.html#preprocessing-scaler\n",
    "- http://scikit-learn.org/stable/modules/generated/sklearn.preprocessing.StandardScaler.html#sklearn.preprocessing.StandardScaler"
   ]
  },
  {
   "cell_type": "markdown",
   "metadata": {},
   "source": [
    "Lastly, some code to help with visualizations:"
   ]
  },
  {
   "cell_type": "code",
   "execution_count": 4,
   "metadata": {
    "collapsed": false
   },
   "outputs": [],
   "source": [
    "def drawVectors(transformed_features, components_, columns, plt, scaled):\n",
    "    if not scaled:\n",
    "        return plt.axes() # No cheating ;-)\n",
    "\n",
    "    num_columns = len(columns)\n",
    "\n",
    "    # This funtion will project your *original* feature (columns)\n",
    "    # onto your principal component feature-space, so that you can\n",
    "    # visualize how \"important\" each one was in the\n",
    "    # multi-dimensional scaling\n",
    "\n",
    "    # Scale the principal components by the max value in\n",
    "    # the transformed set belonging to that component\n",
    "    xvector = components_[0] * max(transformed_features[:,0])\n",
    "    yvector = components_[1] * max(transformed_features[:,1])\n",
    "\n",
    "    ## visualize projections\n",
    "\n",
    "    # Sort each column by it's length. These are your *original*\n",
    "    # columns, not the principal components.\n",
    "    important_features = { columns[i] : math.sqrt(xvector[i]**2 + yvector[i]**2) for i in range(num_columns) }\n",
    "    important_features = sorted(zip(important_features.values(), important_features.keys()), reverse=True)\n",
    "    print(\"Features by importance:\\n\", important_features)\n",
    "\n",
    "    ax = plt.axes()\n",
    "\n",
    "    for i in range(num_columns):\n",
    "        # Use an arrow to project each original feature as a\n",
    "        # labeled vector on your principal component axes\n",
    "        plt.arrow(0, 0, xvector[i], yvector[i], color='b', width=0.0005, head_width=0.02, alpha=0.75)\n",
    "        plt.text(xvector[i]*1.2, yvector[i]*1.2, list(columns)[i], color='b', alpha=0.75)\n",
    "\n",
    "    return ax"
   ]
  },
  {
   "cell_type": "markdown",
   "metadata": {},
   "source": [
    "### And Now, The Assignment"
   ]
  },
  {
   "cell_type": "code",
   "execution_count": 5,
   "metadata": {
    "collapsed": false
   },
   "outputs": [],
   "source": [
    "# Do * NOT * alter this line, until instructed!\n",
    "scaleFeatures = True"
   ]
  },
  {
   "cell_type": "markdown",
   "metadata": {},
   "source": [
    "Load up the dataset specified on the lab instructions page and remove any and all _rows_ that have a NaN in them. You should be a pro at this by now ;-)\n",
    "\n",
    "**QUESTION**: Should the `id` column be included in your dataset as a feature?"
   ]
  },
  {
   "cell_type": "code",
   "execution_count": 23,
   "metadata": {
    "collapsed": false
   },
   "outputs": [
    {
     "ename": "AttributeError",
     "evalue": "'NoneType' object has no attribute 'dtypes'",
     "output_type": "error",
     "traceback": [
      "\u001b[0;31m---------------------------------------------------------------------------\u001b[0m",
      "\u001b[0;31mAttributeError\u001b[0m                            Traceback (most recent call last)",
      "\u001b[0;32m<ipython-input-23-e9497fb24d24>\u001b[0m in \u001b[0;36m<module>\u001b[0;34m()\u001b[0m\n\u001b[1;32m      1\u001b[0m \u001b[0mdf\u001b[0m \u001b[1;33m=\u001b[0m \u001b[0mpd\u001b[0m\u001b[1;33m.\u001b[0m\u001b[0mread_csv\u001b[0m\u001b[1;33m(\u001b[0m\u001b[1;34m\"Datasets/kidney_disease.csv\"\u001b[0m\u001b[1;33m)\u001b[0m\u001b[1;33m\u001b[0m\u001b[0m\n\u001b[1;32m      2\u001b[0m \u001b[0mdf\u001b[0m \u001b[1;33m=\u001b[0m \u001b[0mdf\u001b[0m\u001b[1;33m.\u001b[0m\u001b[0mdrop\u001b[0m\u001b[1;33m(\u001b[0m\u001b[0mlabels\u001b[0m\u001b[1;33m=\u001b[0m\u001b[1;33m[\u001b[0m\u001b[1;34m'id'\u001b[0m\u001b[1;33m]\u001b[0m\u001b[1;33m,\u001b[0m \u001b[0maxis\u001b[0m\u001b[1;33m=\u001b[0m\u001b[1;36m1\u001b[0m\u001b[1;33m)\u001b[0m\u001b[1;33m.\u001b[0m\u001b[0mdropna\u001b[0m\u001b[1;33m(\u001b[0m\u001b[0maxis\u001b[0m \u001b[1;33m=\u001b[0m \u001b[1;36m0\u001b[0m\u001b[1;33m,\u001b[0m \u001b[0mhow\u001b[0m \u001b[1;33m=\u001b[0m \u001b[1;34m'any'\u001b[0m\u001b[1;33m,\u001b[0m \u001b[0minplace\u001b[0m \u001b[1;33m=\u001b[0m \u001b[1;32mTrue\u001b[0m\u001b[1;33m)\u001b[0m\u001b[1;33m\u001b[0m\u001b[0m\n\u001b[0;32m----> 3\u001b[0;31m \u001b[0mdf\u001b[0m\u001b[1;33m.\u001b[0m\u001b[0mdtypes\u001b[0m\u001b[1;33m\u001b[0m\u001b[0m\n\u001b[0m",
      "\u001b[0;31mAttributeError\u001b[0m: 'NoneType' object has no attribute 'dtypes'"
     ]
    }
   ],
   "source": [
    "df = pd.read_csv(\"Datasets/kidney_disease.csv\")\n",
    "df = df.drop(labels=['id'], axis=1).dropna(axis = 0, how = 'any', inplace = True)\n",
    "df.dtypes"
   ]
  },
  {
   "cell_type": "markdown",
   "metadata": {},
   "source": [
    "Let's build some color-coded labels; the actual label feature will be removed prior to executing PCA, since it's unsupervised. You're only labeling by color so you can see the effects of PCA:"
   ]
  },
  {
   "cell_type": "code",
   "execution_count": 19,
   "metadata": {
    "collapsed": false
   },
   "outputs": [],
   "source": [
    "labels = ['red' if i=='ckd' else 'green' for i in df.classification]"
   ]
  },
  {
   "cell_type": "markdown",
   "metadata": {
    "collapsed": true
   },
   "source": [
    "Use an indexer to select only the following columns: `['bgr','wc','rc']`"
   ]
  },
  {
   "cell_type": "code",
   "execution_count": 20,
   "metadata": {
    "collapsed": false
   },
   "outputs": [
    {
     "data": {
      "text/plain": [
       "bgr    float64\n",
       "wc      object\n",
       "rc      object\n",
       "dtype: object"
      ]
     },
     "execution_count": 20,
     "metadata": {},
     "output_type": "execute_result"
    }
   ],
   "source": [
    "df2 = df[['bgr', 'wc', 'rc']]\n",
    "df2.dtypes"
   ]
  },
  {
   "cell_type": "markdown",
   "metadata": {},
   "source": [
    "Either take a look at the dataset's webpage in the attribute info section of UCI's [Chronic Kidney Disease]() page,: https://archive.ics.uci.edu/ml/datasets/Chronic_Kidney_Disease or alternatively, you can actually look at the first few rows of your dataframe using `.head()`. What kind of data type should these three columns be? Compare what you see with the results when you print out your dataframe's `dtypes`.\n",
    "\n",
    "If Pandas did not properly detect and convert your columns to the data types you expected, use an appropriate command to coerce these features to the right type."
   ]
  },
  {
   "cell_type": "code",
   "execution_count": 21,
   "metadata": {
    "collapsed": false
   },
   "outputs": [
    {
     "name": "stderr",
     "output_type": "stream",
     "text": [
      "C:\\ProgramData\\Anaconda3\\lib\\site-packages\\pandas\\core\\generic.py:2773: SettingWithCopyWarning: \n",
      "A value is trying to be set on a copy of a slice from a DataFrame.\n",
      "Try using .loc[row_indexer,col_indexer] = value instead\n",
      "\n",
      "See the caveats in the documentation: http://pandas.pydata.org/pandas-docs/stable/indexing.html#indexing-view-versus-copy\n",
      "  self[name] = value\n"
     ]
    },
    {
     "data": {
      "text/plain": [
       "bgr    float64\n",
       "wc       int64\n",
       "rc     float64\n",
       "dtype: object"
      ]
     },
     "execution_count": 21,
     "metadata": {},
     "output_type": "execute_result"
    }
   ],
   "source": [
    "df2.bgr = pd.to_numeric(df2.bgr)\n",
    "df2.wc = pd.to_numeric(df2.wc, errors='coerce')\n",
    "df2.rc= pd.to_numeric(df2.rc, errors='coerce')\n",
    "df2.dtypes"
   ]
  },
  {
   "cell_type": "markdown",
   "metadata": {},
   "source": [
    "PCA Operates based on variance. The variable with the greatest variance will dominate. Examine your data using a command that will check the variance of every feature in your dataset, and then print out the results. Also print out the results of running `.describe` on your dataset.\n",
    "\n",
    "_Hint:_ If you do not see all three variables: `'bgr'`, `'wc'`, and `'rc'`, then it's likely you probably did not complete the previous step properly."
   ]
  },
  {
   "cell_type": "code",
   "execution_count": 10,
   "metadata": {
    "collapsed": false
   },
   "outputs": [
    {
     "data": {
      "text/html": [
       "<div>\n",
       "<table border=\"1\" class=\"dataframe\">\n",
       "  <thead>\n",
       "    <tr style=\"text-align: right;\">\n",
       "      <th></th>\n",
       "      <th>bgr</th>\n",
       "      <th>wc</th>\n",
       "      <th>rc</th>\n",
       "    </tr>\n",
       "  </thead>\n",
       "  <tbody>\n",
       "    <tr>\n",
       "      <th>count</th>\n",
       "      <td>158.000000</td>\n",
       "      <td>158.000000</td>\n",
       "      <td>158.000000</td>\n",
       "    </tr>\n",
       "    <tr>\n",
       "      <th>mean</th>\n",
       "      <td>131.341772</td>\n",
       "      <td>8475.949367</td>\n",
       "      <td>4.891772</td>\n",
       "    </tr>\n",
       "    <tr>\n",
       "      <th>std</th>\n",
       "      <td>64.939832</td>\n",
       "      <td>3126.880181</td>\n",
       "      <td>1.019364</td>\n",
       "    </tr>\n",
       "    <tr>\n",
       "      <th>min</th>\n",
       "      <td>70.000000</td>\n",
       "      <td>3800.000000</td>\n",
       "      <td>2.100000</td>\n",
       "    </tr>\n",
       "    <tr>\n",
       "      <th>25%</th>\n",
       "      <td>97.000000</td>\n",
       "      <td>6525.000000</td>\n",
       "      <td>4.500000</td>\n",
       "    </tr>\n",
       "    <tr>\n",
       "      <th>50%</th>\n",
       "      <td>115.500000</td>\n",
       "      <td>7800.000000</td>\n",
       "      <td>4.950000</td>\n",
       "    </tr>\n",
       "    <tr>\n",
       "      <th>75%</th>\n",
       "      <td>131.750000</td>\n",
       "      <td>9775.000000</td>\n",
       "      <td>5.600000</td>\n",
       "    </tr>\n",
       "    <tr>\n",
       "      <th>max</th>\n",
       "      <td>490.000000</td>\n",
       "      <td>26400.000000</td>\n",
       "      <td>8.000000</td>\n",
       "    </tr>\n",
       "  </tbody>\n",
       "</table>\n",
       "</div>"
      ],
      "text/plain": [
       "              bgr            wc          rc\n",
       "count  158.000000    158.000000  158.000000\n",
       "mean   131.341772   8475.949367    4.891772\n",
       "std     64.939832   3126.880181    1.019364\n",
       "min     70.000000   3800.000000    2.100000\n",
       "25%     97.000000   6525.000000    4.500000\n",
       "50%    115.500000   7800.000000    4.950000\n",
       "75%    131.750000   9775.000000    5.600000\n",
       "max    490.000000  26400.000000    8.000000"
      ]
     },
     "execution_count": 10,
     "metadata": {},
     "output_type": "execute_result"
    }
   ],
   "source": [
    "df2.describe()"
   ]
  },
  {
   "cell_type": "markdown",
   "metadata": {},
   "source": [
    "Below, we assume your dataframe's variable is named `df`. If it isn't, make the appropriate changes. But do not alter the code in `scaleFeaturesDF()` just yet!"
   ]
  },
  {
   "cell_type": "code",
   "execution_count": 11,
   "metadata": {
    "collapsed": false
   },
   "outputs": [
    {
     "name": "stdout",
     "output_type": "stream",
     "text": [
      "New Variances:\n",
      " bgr    1.006369\n",
      "wc     1.006369\n",
      "rc     1.006369\n",
      "dtype: float64\n",
      "New Describe:\n",
      "                 bgr            wc            rc\n",
      "count  1.580000e+02  1.580000e+02  1.580000e+02\n",
      "mean  -9.755075e-17  9.345548e-17  1.068063e-16\n",
      "std    1.003180e+00  1.003180e+00  1.003180e+00\n",
      "min   -9.475974e-01 -1.500159e+00 -2.747446e+00\n",
      "25%   -5.305059e-01 -6.259123e-01 -3.855519e-01\n",
      "50%   -2.447210e-01 -2.168611e-01  5.730335e-02\n",
      "75%    6.306235e-03  4.167672e-01  6.969831e-01\n",
      "max    5.540492e+00  5.750474e+00  3.058878e+00\n"
     ]
    }
   ],
   "source": [
    "# .. your (possible) code adjustment here ..\n",
    "if scaleFeatures: df2 = scaleFeaturesDF(df2)"
   ]
  },
  {
   "cell_type": "markdown",
   "metadata": {},
   "source": [
    "Run PCA on your dataset, reducing it to 2 principal components. Make sure your PCA model is saved in a variable called `'pca'`, and that the results of your transformation are saved in another variable `'T'`:"
   ]
  },
  {
   "cell_type": "code",
   "execution_count": 12,
   "metadata": {
    "collapsed": false
   },
   "outputs": [
    {
     "data": {
      "text/plain": [
       "array([[  2.02803256e-01,  -6.15384453e-01],\n",
       "       [  7.39157657e-01,   1.15820015e+00],\n",
       "       [  2.36388805e+00,  -3.09738967e+00],\n",
       "       [  2.05754765e+00,  -9.59821078e-03],\n",
       "       [  1.55091814e+00,  -4.81088310e-01],\n",
       "       [  3.39989683e-01,  -5.19702079e-01],\n",
       "       [  1.90134205e+00,  -8.05965441e-01],\n",
       "       [  1.93261129e+00,   2.98651800e+00],\n",
       "       [  1.29755832e+00,  -1.34414484e+00],\n",
       "       [  2.30714195e+00,   1.07760643e+00],\n",
       "       [  5.77444540e-01,  -8.97027835e-01],\n",
       "       [  2.10867861e-01,  -8.43017810e-01],\n",
       "       [  4.82532012e-01,  -1.53771762e+00],\n",
       "       [  2.01948678e+00,  -8.40678000e-01],\n",
       "       [  9.24594508e-01,   7.16974434e-01],\n",
       "       [  1.16422651e+00,  -1.70577611e+00],\n",
       "       [  2.33913407e+00,  -1.94688354e+00],\n",
       "       [  1.30057941e+00,   1.81172016e+00],\n",
       "       [  1.55071842e+00,  -2.06655572e+00],\n",
       "       [  2.55935890e+00,   1.67827367e+00],\n",
       "       [ -2.06469138e+00,   7.84375482e-01],\n",
       "       [  5.64718359e-01,   5.62208073e-01],\n",
       "       [  3.68767194e+00,   3.16589913e-01],\n",
       "       [  3.51592085e+00,   2.34017158e-01],\n",
       "       [  4.37994914e-01,  -3.19887378e-01],\n",
       "       [  2.34423912e+00,  -6.76663543e-01],\n",
       "       [  1.51903967e+00,   9.88375792e-01],\n",
       "       [  1.00620426e+00,   1.02599063e+00],\n",
       "       [  2.27689790e+00,   2.75629978e+00],\n",
       "       [  1.77305075e+00,  -1.36880101e+00],\n",
       "       [  1.00308802e+00,   2.50862321e+00],\n",
       "       [  1.01861606e+00,   7.78075918e-03],\n",
       "       [  4.55581003e+00,   3.86290211e+00],\n",
       "       [  1.97322818e+00,  -7.33211383e-01],\n",
       "       [  2.10763730e+00,  -1.10914754e+00],\n",
       "       [  1.33875491e+00,  -1.15158482e+00],\n",
       "       [  4.13157770e+00,  -1.64512092e+00],\n",
       "       [  1.06651112e+00,  -8.33391768e-01],\n",
       "       [  2.83294627e+00,   9.68578410e-01],\n",
       "       [  2.23171761e+00,  -1.13159937e-01],\n",
       "       [  7.01930349e-01,  -1.32680222e+00],\n",
       "       [  3.48314830e+00,  -1.76778210e+00],\n",
       "       [  1.66380114e+00,  -1.80124164e+00],\n",
       "       [  6.26165046e-01,   3.79617705e-01],\n",
       "       [ -4.29209127e-01,   8.21821850e-01],\n",
       "       [ -2.41574609e-01,   4.75707908e-01],\n",
       "       [ -1.28442638e+00,  -2.40920942e-01],\n",
       "       [ -5.19598301e-01,   2.49889142e-01],\n",
       "       [ -8.56113183e-01,   5.94677707e-01],\n",
       "       [  2.17361565e-01,   6.63011459e-01],\n",
       "       [ -8.40476546e-01,   6.64038607e-01],\n",
       "       [ -6.99324898e-01,   3.53148957e-01],\n",
       "       [ -1.10214472e+00,  -8.87739708e-01],\n",
       "       [ -1.11176792e-01,   3.50499873e-01],\n",
       "       [ -5.44216114e-01,  -7.24920522e-01],\n",
       "       [ -6.40050286e-01,  -1.41354526e-01],\n",
       "       [ -3.05082770e-01,   2.05762032e-01],\n",
       "       [ -2.97397094e-01,  -1.05226958e+00],\n",
       "       [ -6.81215004e-02,   8.24531470e-01],\n",
       "       [ -5.01452685e-01,  -3.80152806e-01],\n",
       "       [  1.31139365e-01,   3.27038975e-01],\n",
       "       [ -5.97285842e-01,  -2.68054391e-01],\n",
       "       [ -4.56918630e-01,  -1.83580308e-01],\n",
       "       [ -3.04446726e-03,   3.03749881e-01],\n",
       "       [ -7.58485866e-01,  -7.07373428e-01],\n",
       "       [ -4.71702228e-01,  -1.06275097e+00],\n",
       "       [ -3.62787495e-01,  -5.61929530e-01],\n",
       "       [ -9.70382803e-01,   7.36086608e-01],\n",
       "       [ -7.79789745e-01,  -6.36413111e-01],\n",
       "       [ -6.02013993e-01,   4.35059024e-01],\n",
       "       [ -4.88593354e-01,  -7.82410442e-01],\n",
       "       [ -1.25832879e+00,  -1.50379581e-02],\n",
       "       [ -1.47221657e+00,  -3.81495351e-01],\n",
       "       [ -9.47465997e-01,   9.73177884e-01],\n",
       "       [ -8.26138452e-01,  -1.56781274e-02],\n",
       "       [ -8.01878061e-01,  -1.70089062e-01],\n",
       "       [ -1.89671290e-01,   7.98209995e-01],\n",
       "       [ -1.02676545e+00,  -3.24284822e-01],\n",
       "       [ -3.60637941e-01,   3.20273508e-01],\n",
       "       [  4.75560140e-01,   6.82331444e-01],\n",
       "       [ -5.96367242e-01,  -7.79074319e-02],\n",
       "       [ -1.45874602e-01,  -6.93368779e-01],\n",
       "       [ -1.79971238e-01,   3.08338310e-01],\n",
       "       [ -1.18928654e+00,  -9.42391572e-01],\n",
       "       [  2.05132015e-01,  -2.88250568e-01],\n",
       "       [ -7.20941132e-01,  -7.77998452e-02],\n",
       "       [ -1.91217642e-01,   1.01864754e+00],\n",
       "       [ -5.86824888e-01,  -1.11532307e-01],\n",
       "       [ -2.40633489e-01,   9.55649448e-02],\n",
       "       [  2.61134718e-01,   2.13190187e-01],\n",
       "       [ -3.37004288e-01,   1.04979495e-01],\n",
       "       [ -5.90856684e-01,  -2.33449419e-01],\n",
       "       [ -7.54097662e-01,   1.01523186e+00],\n",
       "       [  2.60096346e-02,   4.46182248e-01],\n",
       "       [  1.24330264e-01,  -2.66496673e-01],\n",
       "       [ -1.56858838e+00,   9.93867805e-02],\n",
       "       [ -4.26632560e-01,   1.79440557e-01],\n",
       "       [ -3.19264179e-01,   9.00699536e-01],\n",
       "       [ -7.12809952e-01,   2.23055934e-01],\n",
       "       [ -4.86527920e-02,  -5.69657926e-01],\n",
       "       [ -1.33478335e+00,  -7.83860573e-01],\n",
       "       [ -6.50083050e-02,   7.56301623e-01],\n",
       "       [ -1.33099936e+00,   3.07571716e-01],\n",
       "       [ -3.44574291e-01,  -1.13494992e+00],\n",
       "       [ -6.40139381e-01,  -9.95537402e-02],\n",
       "       [ -1.19627687e+00,  -3.79229059e-02],\n",
       "       [ -7.84022348e-02,  -3.58527347e-01],\n",
       "       [ -1.33371009e+00,   3.64442317e-01],\n",
       "       [ -1.15861951e+00,  -4.91907611e-01],\n",
       "       [ -1.75714154e-01,   3.10301663e-02],\n",
       "       [ -1.34571740e+00,   4.28357775e-01],\n",
       "       [ -7.95067945e-01,  -4.80209944e-02],\n",
       "       [ -1.42147865e+00,   2.48907375e-01],\n",
       "       [ -1.06472176e-01,   6.89143961e-01],\n",
       "       [ -6.31067080e-01,  -1.78840924e-01],\n",
       "       [ -5.99233643e-01,  -5.07725182e-01],\n",
       "       [ -6.65542645e-01,  -2.07532090e-01],\n",
       "       [ -4.98987733e-01,  -4.10443390e-01],\n",
       "       [ -1.33115605e+00,   2.92350947e-01],\n",
       "       [  1.65524821e-01,   8.68998508e-01],\n",
       "       [ -1.08796534e+00,  -6.39742051e-01],\n",
       "       [ -5.49189030e-01,  -4.66694670e-01],\n",
       "       [ -1.47748135e+00,  -2.52533380e-01],\n",
       "       [ -1.61755670e+00,  -2.07743582e-01],\n",
       "       [ -4.98417209e-02,   7.80000214e-01],\n",
       "       [  1.24553523e-01,   2.77213233e-01],\n",
       "       [ -4.03022441e-01,   1.00590405e+00],\n",
       "       [ -1.08796636e+00,  -1.68274471e-01],\n",
       "       [ -9.39020434e-01,   8.33007622e-01],\n",
       "       [  1.17496613e-01,   6.53192762e-01],\n",
       "       [ -6.35190000e-01,   6.83977911e-01],\n",
       "       [ -8.64489128e-01,  -1.51065636e-01],\n",
       "       [ -2.66822204e-01,   8.54417907e-01],\n",
       "       [  1.24172565e-01,   1.89750138e-01],\n",
       "       [ -1.19983963e+00,   3.57289871e-01],\n",
       "       [ -7.80060074e-01,   9.03391988e-01],\n",
       "       [ -4.96054757e-01,   5.47863496e-01],\n",
       "       [ -5.88772690e-01,  -3.51203097e-01],\n",
       "       [ -1.48113219e+00,  -2.86987397e-01],\n",
       "       [ -4.86353690e-01,  -4.13475770e-01],\n",
       "       [ -1.91108286e+00,   8.25874433e-02],\n",
       "       [ -7.12786417e-01,  -8.18701568e-01],\n",
       "       [  6.46146847e-01,   6.01337256e-01],\n",
       "       [ -3.74571542e-01,   4.56958342e-02],\n",
       "       [ -1.72584571e+00,  -1.76214359e-01],\n",
       "       [ -9.05618125e-01,  -2.86604101e-01],\n",
       "       [ -1.12199540e+00,   8.90454174e-01],\n",
       "       [ -9.44037404e-01,  -7.54558487e-03],\n",
       "       [ -8.96164866e-01,  -2.78428190e-01],\n",
       "       [ -1.72546475e+00,  -8.87512642e-02],\n",
       "       [ -6.57007987e-01,  -3.89503139e-01],\n",
       "       [ -6.17895395e-01,  -7.91894399e-02],\n",
       "       [  3.94691814e-01,   1.75596203e-01],\n",
       "       [ -2.03894725e-01,  -5.48566720e-01],\n",
       "       [ -1.44186393e+00,   5.10014651e-01],\n",
       "       [ -9.01743013e-01,  -1.79907758e-01],\n",
       "       [ -9.87496174e-01,   1.24964601e-03],\n",
       "       [ -1.01646118e+00,  -1.82983507e-01]])"
      ]
     },
     "execution_count": 12,
     "metadata": {},
     "output_type": "execute_result"
    }
   ],
   "source": [
    "from sklearn.decomposition import PCA\n",
    "\n",
    "pca = PCA(n_components=2, svd_solver='full')\n",
    "pca.fit(df2)\n",
    "T = pca.transform(df2)\n",
    "T"
   ]
  },
  {
   "cell_type": "markdown",
   "metadata": {},
   "source": [
    "Now, plot the transformed data as a scatter plot. Recall that transforming the data will result in a NumPy NDArray. You can either use MatPlotLib to graph it directly, or you can convert it back to DataFrame and have Pandas do it for you.\n",
    "\n",
    "Since we've already demonstrated how to plot directly with MatPlotLib in `Module4/assignment1.ipynb`, this time we'll show you how to convert your transformed data back into to a Pandas Dataframe and have Pandas plot it from there."
   ]
  },
  {
   "cell_type": "code",
   "execution_count": 13,
   "metadata": {
    "collapsed": false
   },
   "outputs": [
    {
     "name": "stdout",
     "output_type": "stream",
     "text": [
      "Features by importance:\n",
      " [(3.999807155688483, 'wc'), (3.258887664121087, 'bgr'), (3.009752752998363, 'rc')]\n"
     ]
    },
    {
     "data": {
      "image/png": "[encoded data removed]",
      "text/plain": [
       "<matplotlib.figure.Figure at 0x223cb400860>"
      ]
     },
     "metadata": {},
     "output_type": "display_data"
    }
   ],
   "source": [
    "# Since we transformed via PCA, we no longer have column names; but we know we\n",
    "# are in `principal-component` space, so we'll just define the coordinates accordingly:\n",
    "ax = drawVectors(T, pca.components_, df2.columns.values, plt, scaleFeatures)\n",
    "T  = pd.DataFrame(T)\n",
    "\n",
    "T.columns = ['component1', 'component2']\n",
    "T.plot.scatter(x='component1', y='component2', marker='o', c=labels, alpha=0.75, ax=ax)\n",
    "\n",
    "plt.show()"
   ]
  },
  {
   "cell_type": "code",
   "execution_count": null,
   "metadata": {
    "collapsed": true
   },
   "outputs": [],
   "source": []
  }
 ],
 "metadata": {
  "anaconda-cloud": {},
  "kernelspec": {
   "display_name": "Python 3",
   "language": "python",
   "name": "python3"
  },
  "language_info": {
   "codemirror_mode": {
    "name": "ipython",
    "version": 3
   },
   "file_extension": ".py",
   "mimetype": "text/x-python",
   "name": "python",
   "nbconvert_exporter": "python",
   "pygments_lexer": "ipython3",
   "version": "3.6.0"
  },
  "toc": {
   "colors": {
    "hover_highlight": "#DAA520",
    "running_highlight": "#FF0000",
    "selected_highlight": "#FFD700"
   },
   "moveMenuLeft": true,
   "nav_menu": {
    "height": "58px",
    "width": "252px"
   },
   "navigate_menu": true,
   "number_sections": true,
   "sideBar": true,
   "threshold": 4,
   "toc_cell": false,
   "toc_section_display": "block",
   "toc_window_display": false,
   "widenNotebook": false
  }
 },
 "nbformat": 4,
 "nbformat_minor": 2
}
